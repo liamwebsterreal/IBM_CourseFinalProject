{
 "cells": [
  {
   "cell_type": "code",
   "execution_count": null,
   "metadata": {},
   "outputs": [],
   "source": [
    "urlData = requests.get('https://api.tosdr.org/service/v1/?page={start:1000}').content\n",
    "rawData = pd.read_csv(io.StringIO(urlData.decode('utf-8')), )\n",
    "print(rawData)"
   ]
  },
  {
   "cell_type": "code",
   "execution_count": null,
   "metadata": {},
   "outputs": [],
   "source": [
    "rawdata1 = pd.read_json('https://api.tosdr.org/service/v1/?page=1')\n",
    "rawdata1 = rawdata1.iloc[1,2]\n",
    "rawdata1 = pd.DataFrame(rawdata1)"
   ]
  },
  {
   "cell_type": "code",
   "execution_count": null,
   "metadata": {},
   "outputs": [],
   "source": [
    "rawdata2 = pd.read_json('https://api.tosdr.org/service/v1/?page=2')\n",
    "rawdata2 = rawdata2.iloc[1,2]\n",
    "rawdata2 = pd.DataFrame(rawdata2)\n",
    "cleandata = pd.concat([rawdata1,rawdata2], ignore_index=True, axis=0)\n",
    "cleandata.columns"
   ]
  },
  {
   "cell_type": "code",
   "execution_count": null,
   "metadata": {},
   "outputs": [],
   "source": [
    "cleandata.drop(['created_at','updated_at', 'links', 'slug' ], inplace=True, axis=1)"
   ]
  }
 ],
 "metadata": {
  "language_info": {
   "name": "python"
  },
  "orig_nbformat": 4
 },
 "nbformat": 4,
 "nbformat_minor": 2
}
