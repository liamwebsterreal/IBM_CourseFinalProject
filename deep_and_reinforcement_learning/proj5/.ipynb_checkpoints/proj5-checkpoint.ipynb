{
 "cells": [
  {
   "cell_type": "code",
   "execution_count": 5,
   "metadata": {},
   "outputs": [],
   "source": [
    "# External Library Imports\n",
    "import numpy as np\n",
    "import pandas as pd\n",
    "import matplotlib.pyplot as plt\n",
    "import seaborn as sns\n",
    "import keras\n",
    "import tensorflow as tf\n",
    "from keras.preprocessing.text import Tokenizer\n",
    "from tensorflow.keras.utils import pad_sequences\n",
    "from tensorflow.keras.layers import TextVectorization\n",
    "from keras.models import Sequential, load_model, model_from_json\n",
    "from keras.layers import Activation, Dropout, Flatten, Dense, BatchNormalization, LSTM, Embedding, Reshape, SimpleRNN\n",
    "from keras.datasets import imdb\n",
    "from keras import initializers\n",
    "from sklearn.model_selection import train_test_split\n",
    "import nltk\n",
    "from nltk.corpus import stopwords\n",
    "from nltk.tokenize import word_tokenize\n",
    "from nltk.stem import WordNetLemmatizer\n",
    "import re \n",
    "\n",
    "def warn(*args, **kwargs):\n",
    "    pass\n",
    "import warnings\n",
    "warnings.warn = warn\n",
    "warnings.filterwarnings('ignore')"
   ]
  },
  {
   "cell_type": "code",
   "execution_count": 6,
   "metadata": {},
   "outputs": [],
   "source": [
    "# Functions \n",
    "\n",
    "def CountPlot(data):\n",
    "    plot = plt.axes()\n",
    "    plot.set_title('Fake vs Real News Count')\n",
    "    sns.countplot(data)\n",
    "    plot.set_xlabel('label')\n",
    "    plot.set_xticklabels(['Fake(0)','Real(1)'])\n",
    "    return plot\n",
    "\n",
    "def CorpusGen(text):\n",
    "    # Removes numbers, lowercases words, removes stopwords, word tokenizes, and finally lemmantizes\n",
    "    lemmatizer = WordNetLemmatizer()\n",
    "    nltk.download('stopwords')\n",
    "    nltk.download('punkt')\n",
    "    nltk.download('wordnet')\n",
    "    nltk.download('omw-1.4')\n",
    "\n",
    "    corpus = list()\n",
    "    for i in range(0,len(text)):\n",
    "        message = re.sub('[^a-zA-Z]', ' ', text.iloc[i])\n",
    "        message = message.lower()\n",
    "        message = word_tokenize(message)\n",
    "        message = list(lemmatizer.lemmatize(w) for w in message if not w in stopwords.words('english'))\n",
    "        message = ' '.join(message)\n",
    "        corpus.append(message)\n",
    "    return corpus"
   ]
  },
  {
   "cell_type": "code",
   "execution_count": 7,
   "metadata": {},
   "outputs": [],
   "source": [
    "# Import Data\n",
    "filepath = \"Data\\WELFake_Dataset.csv\\WELFake_Dataset.csv\"\n",
    "\n",
    "raw_data = pd.read_csv(filepath)\n"
   ]
  },
  {
   "cell_type": "code",
   "execution_count": 8,
   "metadata": {},
   "outputs": [
    {
     "name": "stdout",
     "output_type": "stream",
     "text": [
      "(71537, 3)\n"
     ]
    },
    {
     "data": {
      "text/html": [
       "<div>\n",
       "<style scoped>\n",
       "    .dataframe tbody tr th:only-of-type {\n",
       "        vertical-align: middle;\n",
       "    }\n",
       "\n",
       "    .dataframe tbody tr th {\n",
       "        vertical-align: top;\n",
       "    }\n",
       "\n",
       "    .dataframe thead th {\n",
       "        text-align: right;\n",
       "    }\n",
       "</style>\n",
       "<table border=\"1\" class=\"dataframe\">\n",
       "  <thead>\n",
       "    <tr style=\"text-align: right;\">\n",
       "      <th></th>\n",
       "      <th>title</th>\n",
       "      <th>text</th>\n",
       "      <th>label</th>\n",
       "    </tr>\n",
       "  </thead>\n",
       "  <tbody>\n",
       "    <tr>\n",
       "      <th>0</th>\n",
       "      <td>LAW ENFORCEMENT ON HIGH ALERT Following Threat...</td>\n",
       "      <td>No comment is expected from Barack Obama Membe...</td>\n",
       "      <td>1</td>\n",
       "    </tr>\n",
       "    <tr>\n",
       "      <th>2</th>\n",
       "      <td>UNBELIEVABLE! OBAMA’S ATTORNEY GENERAL SAYS MO...</td>\n",
       "      <td>Now, most of the demonstrators gathered last ...</td>\n",
       "      <td>1</td>\n",
       "    </tr>\n",
       "    <tr>\n",
       "      <th>3</th>\n",
       "      <td>Bobby Jindal, raised Hindu, uses story of Chri...</td>\n",
       "      <td>A dozen politically active pastors came here f...</td>\n",
       "      <td>0</td>\n",
       "    </tr>\n",
       "    <tr>\n",
       "      <th>4</th>\n",
       "      <td>SATAN 2: Russia unvelis an image of its terrif...</td>\n",
       "      <td>The RS-28 Sarmat missile, dubbed Satan 2, will...</td>\n",
       "      <td>1</td>\n",
       "    </tr>\n",
       "    <tr>\n",
       "      <th>5</th>\n",
       "      <td>About Time! Christian Group Sues Amazon and SP...</td>\n",
       "      <td>All we can say on this one is it s about time ...</td>\n",
       "      <td>1</td>\n",
       "    </tr>\n",
       "  </tbody>\n",
       "</table>\n",
       "</div>"
      ],
      "text/plain": [
       "                                               title  \\\n",
       "0  LAW ENFORCEMENT ON HIGH ALERT Following Threat...   \n",
       "2  UNBELIEVABLE! OBAMA’S ATTORNEY GENERAL SAYS MO...   \n",
       "3  Bobby Jindal, raised Hindu, uses story of Chri...   \n",
       "4  SATAN 2: Russia unvelis an image of its terrif...   \n",
       "5  About Time! Christian Group Sues Amazon and SP...   \n",
       "\n",
       "                                                text  label  \n",
       "0  No comment is expected from Barack Obama Membe...      1  \n",
       "2   Now, most of the demonstrators gathered last ...      1  \n",
       "3  A dozen politically active pastors came here f...      0  \n",
       "4  The RS-28 Sarmat missile, dubbed Satan 2, will...      1  \n",
       "5  All we can say on this one is it s about time ...      1  "
      ]
     },
     "execution_count": 8,
     "metadata": {},
     "output_type": "execute_result"
    }
   ],
   "source": [
    "# Data Cleaning\n",
    "cols = [x for x in raw_data.columns if x in ['title', 'text', 'label']]\n",
    "clean_data = raw_data[cols]\n",
    "clean_data.dropna(axis=0, inplace=True)\n",
    "print(clean_data.shape)\n",
    "clean_data.head()"
   ]
  },
  {
   "cell_type": "code",
   "execution_count": 9,
   "metadata": {},
   "outputs": [
    {
     "data": {
      "image/png": "[encoded data removed]",
      "text/plain": [
       "<Figure size 432x288 with 1 Axes>"
      ]
     },
     "metadata": {
      "needs_background": "light"
     },
     "output_type": "display_data"
    }
   ],
   "source": [
    "fulldata_countplot = CountPlot(clean_data['label'])"
   ]
  },
  {
   "cell_type": "code",
   "execution_count": 10,
   "metadata": {},
   "outputs": [
    {
     "name": "stdout",
     "output_type": "stream",
     "text": [
      "(14307, 3)\n"
     ]
    },
    {
     "data": {
      "text/html": [
       "<div>\n",
       "<style scoped>\n",
       "    .dataframe tbody tr th:only-of-type {\n",
       "        vertical-align: middle;\n",
       "    }\n",
       "\n",
       "    .dataframe tbody tr th {\n",
       "        vertical-align: top;\n",
       "    }\n",
       "\n",
       "    .dataframe thead th {\n",
       "        text-align: right;\n",
       "    }\n",
       "</style>\n",
       "<table border=\"1\" class=\"dataframe\">\n",
       "  <thead>\n",
       "    <tr style=\"text-align: right;\">\n",
       "      <th></th>\n",
       "      <th>title</th>\n",
       "      <th>text</th>\n",
       "      <th>label</th>\n",
       "    </tr>\n",
       "  </thead>\n",
       "  <tbody>\n",
       "    <tr>\n",
       "      <th>43857</th>\n",
       "      <td>Lighthizer says China intellectual property pr...</td>\n",
       "      <td>WASHINGTON (Reuters) - U.S. Trade Representati...</td>\n",
       "      <td>0</td>\n",
       "    </tr>\n",
       "    <tr>\n",
       "      <th>40990</th>\n",
       "      <td>The Numbers Are In And Jon Ossoff Losing The ...</td>\n",
       "      <td>Last Tuesday, Georgia held a special election ...</td>\n",
       "      <td>1</td>\n",
       "    </tr>\n",
       "    <tr>\n",
       "      <th>27832</th>\n",
       "      <td>Texas Governor Just Broke With Trump; This Is...</td>\n",
       "      <td>Republicans in Texas, including Gov. Greg Abbo...</td>\n",
       "      <td>1</td>\n",
       "    </tr>\n",
       "    <tr>\n",
       "      <th>52138</th>\n",
       "      <td>Megyn Kelly Wears Off-Shoulder Yigal Azrouel D...</td>\n",
       "      <td>Former Fox News anchor Megyn Kelly opted for a...</td>\n",
       "      <td>0</td>\n",
       "    </tr>\n",
       "    <tr>\n",
       "      <th>71939</th>\n",
       "      <td>UNITED AIRLINES KICKS TODDLER Out Of $969 Seat...</td>\n",
       "      <td>United Airlines should probably consider an ex...</td>\n",
       "      <td>1</td>\n",
       "    </tr>\n",
       "  </tbody>\n",
       "</table>\n",
       "</div>"
      ],
      "text/plain": [
       "                                                   title  \\\n",
       "43857  Lighthizer says China intellectual property pr...   \n",
       "40990   The Numbers Are In And Jon Ossoff Losing The ...   \n",
       "27832   Texas Governor Just Broke With Trump; This Is...   \n",
       "52138  Megyn Kelly Wears Off-Shoulder Yigal Azrouel D...   \n",
       "71939  UNITED AIRLINES KICKS TODDLER Out Of $969 Seat...   \n",
       "\n",
       "                                                    text  label  \n",
       "43857  WASHINGTON (Reuters) - U.S. Trade Representati...      0  \n",
       "40990  Last Tuesday, Georgia held a special election ...      1  \n",
       "27832  Republicans in Texas, including Gov. Greg Abbo...      1  \n",
       "52138  Former Fox News anchor Megyn Kelly opted for a...      0  \n",
       "71939  United Airlines should probably consider an ex...      1  "
      ]
     },
     "execution_count": 10,
     "metadata": {},
     "output_type": "execute_result"
    }
   ],
   "source": [
    "# I want to initially work with a smaller subset of the data\n",
    "subset_data_one = clean_data.sample(frac = 0.2)\n",
    "print(subset_data_one.shape)\n",
    "subset_data_one.head()"
   ]
  },
  {
   "cell_type": "code",
   "execution_count": 11,
   "metadata": {},
   "outputs": [
    {
     "data": {
      "image/png": "[encoded data removed]",
      "text/plain": [
       "<Figure size 432x288 with 1 Axes>"
      ]
     },
     "metadata": {
      "needs_background": "light"
     },
     "output_type": "display_data"
    }
   ],
   "source": [
    "subsetdata_countplot = CountPlot(subset_data_one['label'])"
   ]
  },
  {
   "cell_type": "code",
   "execution_count": 12,
   "metadata": {},
   "outputs": [],
   "source": [
    "max_features = 20000  # This is used in loading the data, picks the most common (max_features) words\n",
    "maxlen = 30  # maximum length of a sequence - truncate after this\n",
    "batch_size = 32"
   ]
  },
  {
   "cell_type": "code",
   "execution_count": 144,
   "metadata": {},
   "outputs": [],
   "source": [
    "# Model 1"
   ]
  },
  {
   "cell_type": "code",
   "execution_count": 20,
   "metadata": {},
   "outputs": [
    {
     "name": "stderr",
     "output_type": "stream",
     "text": [
      "[nltk_data] Downloading package stopwords to C:\\Users\\Liam's\n",
      "[nltk_data]     Computer\\AppData\\Roaming\\nltk_data...\n",
      "[nltk_data]   Package stopwords is already up-to-date!\n",
      "[nltk_data] Downloading package punkt to C:\\Users\\Liam's\n",
      "[nltk_data]     Computer\\AppData\\Roaming\\nltk_data...\n",
      "[nltk_data]   Package punkt is already up-to-date!\n",
      "[nltk_data] Downloading package wordnet to C:\\Users\\Liam's\n",
      "[nltk_data]     Computer\\AppData\\Roaming\\nltk_data...\n",
      "[nltk_data]   Package wordnet is already up-to-date!\n",
      "[nltk_data] Downloading package omw-1.4 to C:\\Users\\Liam's\n",
      "[nltk_data]     Computer\\AppData\\Roaming\\nltk_data...\n",
      "[nltk_data]   Package omw-1.4 is already up-to-date!\n"
     ]
    },
    {
     "ename": "TypeError",
     "evalue": "'list' object is not callable",
     "output_type": "error",
     "traceback": [
      "\u001b[1;31m---------------------------------------------------------------------------\u001b[0m",
      "\u001b[1;31mTypeError\u001b[0m                                 Traceback (most recent call last)",
      "\u001b[1;32mc:\\Users\\Liam's Computer\\Documents\\projects\\IBM_Course_Projects\\deep and reinforcement learning\\proj5\\proj5.ipynb Cell 10\u001b[0m in \u001b[0;36m<cell line: 1>\u001b[1;34m()\u001b[0m\n\u001b[1;32m----> <a href='vscode-notebook-cell:/c%3A/Users/Liam%27s%20Computer/Documents/projects/IBM_Course_Projects/deep%20and%20reinforcement%20learning/proj5/proj5.ipynb#ch0000028?line=0'>1</a>\u001b[0m corpus_one \u001b[39m=\u001b[39m CorpusGen(subset_data_one[\u001b[39m'\u001b[39;49m\u001b[39mtext\u001b[39;49m\u001b[39m'\u001b[39;49m])\n",
      "\u001b[1;32mc:\\Users\\Liam's Computer\\Documents\\projects\\IBM_Course_Projects\\deep and reinforcement learning\\proj5\\proj5.ipynb Cell 10\u001b[0m in \u001b[0;36mCorpusGen\u001b[1;34m(text)\u001b[0m\n\u001b[0;32m     <a href='vscode-notebook-cell:/c%3A/Users/Liam%27s%20Computer/Documents/projects/IBM_Course_Projects/deep%20and%20reinforcement%20learning/proj5/proj5.ipynb#ch0000028?line=15'>16</a>\u001b[0m nltk\u001b[39m.\u001b[39mdownload(\u001b[39m'\u001b[39m\u001b[39mwordnet\u001b[39m\u001b[39m'\u001b[39m)\n\u001b[0;32m     <a href='vscode-notebook-cell:/c%3A/Users/Liam%27s%20Computer/Documents/projects/IBM_Course_Projects/deep%20and%20reinforcement%20learning/proj5/proj5.ipynb#ch0000028?line=16'>17</a>\u001b[0m nltk\u001b[39m.\u001b[39mdownload(\u001b[39m'\u001b[39m\u001b[39momw-1.4\u001b[39m\u001b[39m'\u001b[39m)\n\u001b[1;32m---> <a href='vscode-notebook-cell:/c%3A/Users/Liam%27s%20Computer/Documents/projects/IBM_Course_Projects/deep%20and%20reinforcement%20learning/proj5/proj5.ipynb#ch0000028?line=18'>19</a>\u001b[0m corpus \u001b[39m=\u001b[39m \u001b[39mlist\u001b[39;49m()\n\u001b[0;32m     <a href='vscode-notebook-cell:/c%3A/Users/Liam%27s%20Computer/Documents/projects/IBM_Course_Projects/deep%20and%20reinforcement%20learning/proj5/proj5.ipynb#ch0000028?line=19'>20</a>\u001b[0m \u001b[39mfor\u001b[39;00m i \u001b[39min\u001b[39;00m \u001b[39mrange\u001b[39m(\u001b[39m0\u001b[39m,\u001b[39mlen\u001b[39m(text)):\n\u001b[0;32m     <a href='vscode-notebook-cell:/c%3A/Users/Liam%27s%20Computer/Documents/projects/IBM_Course_Projects/deep%20and%20reinforcement%20learning/proj5/proj5.ipynb#ch0000028?line=20'>21</a>\u001b[0m     message \u001b[39m=\u001b[39m re\u001b[39m.\u001b[39msub(\u001b[39m'\u001b[39m\u001b[39m[^a-zA-Z]\u001b[39m\u001b[39m'\u001b[39m, \u001b[39m'\u001b[39m\u001b[39m \u001b[39m\u001b[39m'\u001b[39m, text\u001b[39m.\u001b[39miloc[i])\n",
      "\u001b[1;31mTypeError\u001b[0m: 'list' object is not callable"
     ]
    }
   ],
   "source": [
    "corpus_one = CorpusGen(subset_data_one['text'])\n"
   ]
  },
  {
   "cell_type": "code",
   "execution_count": 1,
   "metadata": {},
   "outputs": [
    {
     "ename": "NameError",
     "evalue": "name 'corpus_one' is not defined",
     "output_type": "error",
     "traceback": [
      "\u001b[1;31m---------------------------------------------------------------------------\u001b[0m",
      "\u001b[1;31mNameError\u001b[0m                                 Traceback (most recent call last)",
      "\u001b[1;32mc:\\Users\\Liam's Computer\\Documents\\projects\\IBM_Course_Projects\\deep and reinforcement learning\\proj5\\proj5.ipynb Cell 11\u001b[0m in \u001b[0;36m<cell line: 3>\u001b[1;34m()\u001b[0m\n\u001b[0;32m      <a href='vscode-notebook-cell:/c%3A/Users/Liam%27s%20Computer/Documents/projects/IBM_Course_Projects/deep%20and%20reinforcement%20learning/proj5/proj5.ipynb#ch0000010?line=0'>1</a>\u001b[0m \u001b[39mfrom\u001b[39;00m \u001b[39mkeras\u001b[39;00m\u001b[39m.\u001b[39;00m\u001b[39mpreprocessing\u001b[39;00m\u001b[39m.\u001b[39;00m\u001b[39mtext\u001b[39;00m \u001b[39mimport\u001b[39;00m Tokenizer\n\u001b[0;32m      <a href='vscode-notebook-cell:/c%3A/Users/Liam%27s%20Computer/Documents/projects/IBM_Course_Projects/deep%20and%20reinforcement%20learning/proj5/proj5.ipynb#ch0000010?line=1'>2</a>\u001b[0m t \u001b[39m=\u001b[39m Tokenizer()\n\u001b[1;32m----> <a href='vscode-notebook-cell:/c%3A/Users/Liam%27s%20Computer/Documents/projects/IBM_Course_Projects/deep%20and%20reinforcement%20learning/proj5/proj5.ipynb#ch0000010?line=2'>3</a>\u001b[0m t\u001b[39m.\u001b[39mfit_on_texts(corpus_one)\n\u001b[0;32m      <a href='vscode-notebook-cell:/c%3A/Users/Liam%27s%20Computer/Documents/projects/IBM_Course_Projects/deep%20and%20reinforcement%20learning/proj5/proj5.ipynb#ch0000010?line=3'>4</a>\u001b[0m encoded_docs \u001b[39m=\u001b[39m t\u001b[39m.\u001b[39mtexts_to_matrix(corpus_one, mode\u001b[39m=\u001b[39m\u001b[39m'\u001b[39m\u001b[39mtfidf\u001b[39m\u001b[39m'\u001b[39m)\n\u001b[0;32m      <a href='vscode-notebook-cell:/c%3A/Users/Liam%27s%20Computer/Documents/projects/IBM_Course_Projects/deep%20and%20reinforcement%20learning/proj5/proj5.ipynb#ch0000010?line=4'>5</a>\u001b[0m X_train, X_test, y_train, y_test \u001b[39m=\u001b[39m train_test_split(encoded_docs,subset_data_one[\u001b[39m'\u001b[39m\u001b[39mlabel\u001b[39m\u001b[39m'\u001b[39m], test_size\u001b[39m=\u001b[39m\u001b[39m0.25\u001b[39m, random_state\u001b[39m=\u001b[39m\u001b[39m42\u001b[39m)\n",
      "\u001b[1;31mNameError\u001b[0m: name 'corpus_one' is not defined"
     ]
    }
   ],
   "source": [
    "t = Tokenizer()\n",
    "t.fit_on_texts(corpus_one)\n",
    "encoded_docs = t.texts_to_matrix(corpus_one, mode='tfidf')\n",
    "X_train, X_test, y_train, y_test = train_test_split(encoded_docs,subset_data_one['label'], test_size=0.25, random_state=42)"
   ]
  },
  {
   "cell_type": "code",
   "execution_count": 148,
   "metadata": {},
   "outputs": [],
   "source": [
    "rnn_hidden_dim = 10\n",
    "word_embedding_dim = 200\n",
    "model_rnn = Sequential()\n",
    "model_rnn.add(Embedding(max_features, word_embedding_dim, mask_zero=True))  #This layer takes each integer in the sequence\n",
    "model_rnn.add(LSTM(kernel_initializer=initializers.RandomNormal(stddev=0.001),\n",
    "                    recurrent_initializer=initializers.Identity(gain=1.0),\n",
    "                    activation='relu'))\n",
    "\n",
    "model_rnn.add(Dense(1, activation='sigmoid'))"
   ]
  },
  {
   "cell_type": "code",
   "execution_count": 149,
   "metadata": {},
   "outputs": [],
   "source": [
    "rmsprop = keras.optimizers.RMSprop(lr = .01)\n",
    "\n",
    "model_rnn.compile(loss='binary_crossentropy',\n",
    "              optimizer=rmsprop,\n",
    "              metrics=['accuracy'])"
   ]
  },
  {
   "cell_type": "code",
   "execution_count": 150,
   "metadata": {},
   "outputs": [
    {
     "name": "stdout",
     "output_type": "stream",
     "text": [
      "Epoch 1/2\n",
      "16/16 [==============================] - 200s 12s/step - loss: 0.7284 - accuracy: 0.5240 - val_loss: 0.6935 - val_accuracy: 0.5100\n",
      "Epoch 2/2\n",
      "16/16 [==============================] - 218s 14s/step - loss: 0.6862 - accuracy: 0.5140 - val_loss: 1.7251 - val_accuracy: 0.5500\n"
     ]
    },
    {
     "data": {
      "text/plain": [
       "<keras.callbacks.History at 0x1d0dbf77cd0>"
      ]
     },
     "execution_count": 150,
     "metadata": {},
     "output_type": "execute_result"
    }
   ],
   "source": [
    "model_rnn.fit(X_train[:500], y_train[:500],\n",
    "          batch_size=batch_size,\n",
    "          epochs=2,\n",
    "          validation_data=(X_test[:100], y_test[:100]))"
   ]
  },
  {
   "cell_type": "code",
   "execution_count": 13,
   "metadata": {},
   "outputs": [],
   "source": [
    "# Tokenize text\n",
    "\n",
    "tokenizer = Tokenizer()\n",
    "tokenizer.fit_on_texts(subset_data_one['text'])\n",
    "word_index = tokenizer.word_index\n",
    "vocab_size=len(word_index)\n",
    "\n",
    "# Padding data\n",
    "\n",
    "sequences = tokenizer.texts_to_sequences(subset_data_one['text'])\n",
    "padded = pad_sequences(sequences, maxlen=600, padding='post', truncating='post')"
   ]
  },
  {
   "cell_type": "code",
   "execution_count": 14,
   "metadata": {},
   "outputs": [
    {
     "name": "stdout",
     "output_type": "stream",
     "text": [
      "Percentage of Articles with length less than 600 words:  69.51841755783882\n"
     ]
    },
    {
     "data": {
      "image/png": "[encoded data removed]",
      "text/plain": [
       "<Figure size 432x288 with 1 Axes>"
      ]
     },
     "metadata": {
      "needs_background": "light"
     },
     "output_type": "display_data"
    }
   ],
   "source": [
    "list = []\n",
    "count = 0\n",
    "for i in range(14307):\n",
    "    length = len(sequences[i])\n",
    "    list.append(length)\n",
    "    if length <= 600:\n",
    "        count += 1\n",
    "\n",
    "plt.hist(list, bins=100)\n",
    "plt.xlim(0,4000)\n",
    "plt.xlabel('Length of Stories')\n",
    "plt.ylabel('Number of Stories')\n",
    "plt.title('Distribution of Story Length')\n",
    "percent = count / len(sequences)\n",
    "print('Percentage of Articles with length less than 600 words:  ' + str((count / len(sequences) * 100)))"
   ]
  },
  {
   "cell_type": "code",
   "execution_count": 15,
   "metadata": {},
   "outputs": [],
   "source": [
    "X_train, X_test, y_train, y_test = train_test_split(padded,subset_data_one['label'], test_size=0.2, random_state=42)"
   ]
  },
  {
   "cell_type": "code",
   "execution_count": 16,
   "metadata": {},
   "outputs": [
    {
     "name": "stdout",
     "output_type": "stream",
     "text": [
      "100\n"
     ]
    }
   ],
   "source": [
    "embeddings_index = {};\n",
    "with open('glove.6B\\glove.6B.100d.txt', encoding=\"utf8\") as f:\n",
    "    for line in f:\n",
    "        values = line.split();\n",
    "        word = values[0];\n",
    "        coefs = np.asarray(values[1:], dtype='float32');\n",
    "        embeddings_index[word] = coefs;\n",
    "print(len(coefs))\n",
    "\n",
    "embeddings_matrix = np.zeros((vocab_size+1, 100));\n",
    "for word, i in word_index.items():\n",
    "    embedding_vector = embeddings_index.get(word);\n",
    "    if embedding_vector is not None:\n",
    "        embeddings_matrix[i] = embedding_vector;"
   ]
  },
  {
   "cell_type": "code",
   "execution_count": 47,
   "metadata": {},
   "outputs": [],
   "source": [
    "rnn_hidden_dim = 20\n",
    "model_rnn = Sequential()\n",
    "model_rnn.add(Embedding(vocab_size + 1, 100, weights=[embeddings_matrix], trainable=False))  #This layer takes each integer in the sequence\n",
    "model_rnn.add(Dropout(0.2))\n",
    "model_rnn.add(LSTM(rnn_hidden_dim, return_sequences=True))\n",
    "model_rnn.add(Dropout(0.2))\n",
    "model_rnn.add(Dense(256))\n",
    "model_rnn.add(Dense(1, activation='sigmoid'))"
   ]
  },
  {
   "cell_type": "code",
   "execution_count": 48,
   "metadata": {},
   "outputs": [],
   "source": [
    "rmsprop = keras.optimizers.RMSprop(lr = .01)\n",
    "\n",
    "model_rnn.compile(loss='binary_crossentropy',\n",
    "              optimizer=rmsprop,\n",
    "              metrics=['accuracy'])"
   ]
  },
  {
   "cell_type": "code",
   "execution_count": 49,
   "metadata": {},
   "outputs": [
    {
     "name": "stdout",
     "output_type": "stream",
     "text": [
      "Epoch 1/2\n",
      "358/358 [==============================] - 49s 132ms/step - loss: 0.4466 - accuracy: 0.7969 - val_loss: 0.2013 - val_accuracy: 0.9203\n",
      "Epoch 2/2\n",
      "358/358 [==============================] - 46s 130ms/step - loss: 0.2196 - accuracy: 0.9173 - val_loss: 0.3982 - val_accuracy: 0.8399\n"
     ]
    },
    {
     "data": {
      "text/plain": [
       "<keras.callbacks.History at 0x1e0557e3f40>"
      ]
     },
     "execution_count": 49,
     "metadata": {},
     "output_type": "execute_result"
    }
   ],
   "source": [
    "model_rnn.fit(X_train, y_train,\n",
    "          batch_size=batch_size,\n",
    "          epochs=2,\n",
    "          validation_data=(X_test, y_test))"
   ]
  },
  {
   "cell_type": "code",
   "execution_count": 178,
   "metadata": {},
   "outputs": [
    {
     "name": "stdout",
     "output_type": "stream",
     "text": [
      "137594\n"
     ]
    }
   ],
   "source": [
    "# Tokenize text\n",
    "\n",
    "tokenizer = Tokenizer()\n",
    "tokenizer.fit_on_texts(subset_data_one['text'])\n",
    "word_index = tokenizer.word_index\n",
    "vocab_size=len(word_index)\n",
    "print(vocab_size)\n",
    "\n",
    "# Padding data\n",
    "\n",
    "sequences = tokenizer.texts_to_sequences(subset_data_one['text'])\n",
    "padded = pad_sequences(sequences, maxlen=500, padding='post', truncating='post')"
   ]
  },
  {
   "cell_type": "code",
   "execution_count": 179,
   "metadata": {},
   "outputs": [],
   "source": [
    "split = 0.2\n",
    "split_n = int(round(len(padded)*(1-split),0))\n",
    "\n",
    "train_data = padded[:split_n]\n",
    "train_labels = subset_data_one['label'].values[:split_n]\n",
    "test_data = padded[split_n:]\n",
    "test_labels = subset_data_one['label'].values[split_n:]"
   ]
  },
  {
   "cell_type": "code",
   "execution_count": 183,
   "metadata": {},
   "outputs": [
    {
     "name": "stdout",
     "output_type": "stream",
     "text": [
      "100\n"
     ]
    }
   ],
   "source": [
    "# Import tensor representations for words\n",
    "import requests\n",
    "    \n",
    "embeddings_index = {};\n",
    "with open('glove.6B\\glove.6B.100d.txt', encoding=\"utf8\") as f:\n",
    "    for line in f:\n",
    "        values = line.split();\n",
    "        word = values[0];\n",
    "        coefs = np.asarray(values[1:], dtype='float32');\n",
    "        embeddings_index[word] = coefs;\n",
    "print(len(coefs))\n",
    "\n",
    "embeddings_matrix = np.zeros((vocab_size+1, 100));\n",
    "for word, i in word_index.items():\n",
    "    embedding_vector = embeddings_index.get(word);\n",
    "    if embedding_vector is not None:\n",
    "        embeddings_matrix[i] = embedding_vector;"
   ]
  },
  {
   "cell_type": "code",
   "execution_count": 184,
   "metadata": {},
   "outputs": [],
   "source": [
    "# Build the architecture of the model\n",
    "     \n",
    "model = tf.keras.Sequential([\n",
    "    tf.keras.layers.Embedding(vocab_size+1, 100, weights=[embeddings_matrix], trainable=False),\n",
    "    tf.keras.layers.Dropout(0.2),\n",
    "    tf.keras.layers.Conv1D(64, 5, activation='relu'),\n",
    "    tf.keras.layers.MaxPooling1D(pool_size=4),\n",
    "    tf.keras.layers.LSTM(20, return_sequences=True),\n",
    "    tf.keras.layers.LSTM(20),\n",
    "    tf.keras.layers.Dropout(0.2),  \n",
    "    tf.keras.layers.Dense(512),\n",
    "    tf.keras.layers.Dropout(0.3),  \n",
    "    tf.keras.layers.Dense(256),\n",
    "    tf.keras.layers.Dense(1, activation='sigmoid')\n",
    "])"
   ]
  },
  {
   "cell_type": "code",
   "execution_count": 185,
   "metadata": {},
   "outputs": [
    {
     "name": "stdout",
     "output_type": "stream",
     "text": [
      "Model: \"sequential_12\"\n",
      "_________________________________________________________________\n",
      " Layer (type)                Output Shape              Param #   \n",
      "=================================================================\n",
      " embedding_12 (Embedding)    (None, None, 100)         13759500  \n",
      "                                                                 \n",
      " dropout_6 (Dropout)         (None, None, 100)         0         \n",
      "                                                                 \n",
      " conv1d_2 (Conv1D)           (None, None, 64)          32064     \n",
      "                                                                 \n",
      " max_pooling1d_2 (MaxPooling  (None, None, 64)         0         \n",
      " 1D)                                                             \n",
      "                                                                 \n",
      " lstm_6 (LSTM)               (None, None, 20)          6800      \n",
      "                                                                 \n",
      " lstm_7 (LSTM)               (None, 20)                3280      \n",
      "                                                                 \n",
      " dropout_7 (Dropout)         (None, 20)                0         \n",
      "                                                                 \n",
      " dense_16 (Dense)            (None, 512)               10752     \n",
      "                                                                 \n",
      " dropout_8 (Dropout)         (None, 512)               0         \n",
      "                                                                 \n",
      " dense_17 (Dense)            (None, 256)               131328    \n",
      "                                                                 \n",
      " dense_18 (Dense)            (None, 1)                 257       \n",
      "                                                                 \n",
      "=================================================================\n",
      "Total params: 13,943,981\n",
      "Trainable params: 184,481\n",
      "Non-trainable params: 13,759,500\n",
      "_________________________________________________________________\n",
      "Epoch 1/5\n",
      "115/115 [==============================] - 28s 223ms/step - loss: 0.5838 - accuracy: 0.6859 - val_loss: 0.4589 - val_accuracy: 0.7955\n",
      "Epoch 2/5\n",
      "115/115 [==============================] - 23s 202ms/step - loss: 0.4066 - accuracy: 0.8338 - val_loss: 0.3952 - val_accuracy: 0.8396\n",
      "Epoch 3/5\n",
      "115/115 [==============================] - 23s 204ms/step - loss: 0.3318 - accuracy: 0.8695 - val_loss: 0.3253 - val_accuracy: 0.8752\n",
      "Epoch 4/5\n",
      "115/115 [==============================] - 23s 203ms/step - loss: 0.3087 - accuracy: 0.8800 - val_loss: 0.2707 - val_accuracy: 0.8854\n",
      "Epoch 5/5\n",
      "115/115 [==============================] - 23s 202ms/step - loss: 0.2607 - accuracy: 0.9056 - val_loss: 0.2293 - val_accuracy: 0.9235\n",
      "Training Complete\n"
     ]
    }
   ],
   "source": [
    "\n",
    "model.compile(loss='binary_crossentropy',optimizer='adam',metrics=['accuracy'])\n",
    "\n",
    "history = model.fit(train_data, train_labels, epochs=10, batch_size=100, validation_data=[test_data, test_labels])\n",
    "\n",
    "print(\"Training Complete\")"
   ]
  },
  {
   "cell_type": "code",
   "execution_count": 186,
   "metadata": {},
   "outputs": [
    {
     "data": {
      "image/png": "[encoded data removed]",
      "text/plain": [
       "<Figure size 432x288 with 1 Axes>"
      ]
     },
     "metadata": {
      "needs_background": "light"
     },
     "output_type": "display_data"
    },
    {
     "data": {
      "image/png": "[encoded data removed]",
      "text/plain": [
       "<Figure size 432x288 with 1 Axes>"
      ]
     },
     "metadata": {
      "needs_background": "light"
     },
     "output_type": "display_data"
    }
   ],
   "source": [
    "# Visualize the results:\n",
    "\n",
    "plt.plot(history.history['accuracy'])\n",
    "plt.plot(history.history['val_accuracy'])\n",
    "plt.title('Model accuracy')\n",
    "plt.ylabel('Accuracy')\n",
    "plt.xlabel('Epoch')\n",
    "plt.legend(['Train', 'Test'], loc='upper left')\n",
    "plt.show()\n",
    "\n",
    "plt.plot(history.history['loss'])\n",
    "plt.plot(history.history['val_loss'])\n",
    "plt.title('Model loss')\n",
    "plt.ylabel('Loss')\n",
    "plt.xlabel('Epoch')\n",
    "plt.legend(['Train', 'Test'], loc='upper right')\n",
    "plt.show()"
   ]
  },
  {
   "cell_type": "code",
   "execution_count": null,
   "metadata": {},
   "outputs": [],
   "source": []
  }
 ],
 "metadata": {
  "kernelspec": {
   "display_name": "Python 3 (ipykernel)",
   "language": "python",
   "name": "python3"
  },
  "language_info": {
   "codemirror_mode": {
    "name": "ipython",
    "version": 3
   },
   "file_extension": ".py",
   "mimetype": "text/x-python",
   "name": "python",
   "nbconvert_exporter": "python",
   "pygments_lexer": "ipython3",
   "version": "3.10.5"
  },
  "vscode": {
   "interpreter": {
    "hash": "86b382aff9b838d2ac38fb771605ee37ff3cd222f8c18ee62ea5f6283bafc186"
   }
  }
 },
 "nbformat": 4,
 "nbformat_minor": 2
}
