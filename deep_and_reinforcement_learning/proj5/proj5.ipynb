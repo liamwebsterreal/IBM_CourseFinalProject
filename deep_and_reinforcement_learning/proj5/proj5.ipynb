{
 "cells": [
  {
   "cell_type": "code",
   "execution_count": 3,
   "metadata": {},
   "outputs": [],
   "source": [
    "# External Library Imports\n",
    "import numpy as np\n",
    "import pandas as pd\n",
    "import matplotlib.pyplot as plt\n",
    "import seaborn as sns\n",
    "import keras\n",
    "import tensorflow as tf\n",
    "from keras.preprocessing.text import Tokenizer\n",
    "from tensorflow.keras.utils import pad_sequences\n",
    "from keras.models import Sequential\n",
    "from keras.layers import Activation, Dropout, Flatten, Dense, BatchNormalization, LSTM, Embedding, Reshape, SimpleRNN, MaxPooling1D, Conv1D\n",
    "from keras import initializers\n",
    "from sklearn.model_selection import train_test_split\n",
    "import nltk\n",
    "from nltk.corpus import stopwords\n",
    "from nltk.tokenize import word_tokenize\n",
    "from nltk.stem import WordNetLemmatizer\n",
    "import re \n",
    "\n",
    "def warn(*args, **kwargs):\n",
    "    pass\n",
    "import warnings\n",
    "warnings.warn = warn\n",
    "warnings.filterwarnings('ignore')"
   ]
  },
  {
   "cell_type": "markdown",
   "metadata": {},
   "source": [
    "#### Utility Functions"
   ]
  },
  {
   "cell_type": "code",
   "execution_count": 66,
   "metadata": {},
   "outputs": [],
   "source": [
    "# Functions \n",
    "\n",
    "def CountPlot(data, title):\n",
    "    plot = plt.axes()\n",
    "    plot.set_title(title)\n",
    "    sns.countplot(data)\n",
    "    plot.set_xlabel('label')\n",
    "    plot.set_xticklabels(['Fake(0)','Real(1)'])\n",
    "    return plot\n",
    "\n",
    "def CorpusGen(text):\n",
    "    # Removes numbers, lowercases words, removes stopwords, word tokenizes, and finally lemmantizes\n",
    "    lemmatizer = WordNetLemmatizer()\n",
    "    nltk.download('stopwords')\n",
    "    nltk.download('punkt')\n",
    "    nltk.download('wordnet')\n",
    "    nltk.download('omw-1.4')\n",
    "\n",
    "    corpus = []\n",
    "    for i in range(0,len(text)):\n",
    "        message = re.sub('[^a-zA-Z]', ' ', text.iloc[i])\n",
    "        message = message.lower()\n",
    "        message = word_tokenize(message)\n",
    "        message = [lemmatizer.lemmatize(w) for w in message if not w in stopwords.words('english')]\n",
    "        message = ' '.join(message)\n",
    "        corpus.append(message)\n",
    "    return corpus\n",
    "\n",
    "def PredAcc(prediction, data):\n",
    "    correct = 0\n",
    "    incorrect = 0\n",
    "    total = 0\n",
    "    binary_pred = []\n",
    "    for i in range(len(binary_pred)):\n",
    "        if(binary_pred[i] == data.loc[i,'label']):\n",
    "            correct += 1\n",
    "        else:\n",
    "            incorrect += 1\n",
    "\n",
    "    total = correct + incorrect\n",
    "\n",
    "def plot(history):\n",
    "    plt.plot(history.history['accuracy'])\n",
    "    plt.plot(history.history['val_accuracy'])\n",
    "    plt.title('Model accuracy')\n",
    "    plt.ylabel('Accuracy')\n",
    "    plt.xlabel('Epoch')\n",
    "    plt.legend(['Train', 'Test'], loc='upper left')\n",
    "    plt.show()\n",
    "\n",
    "    plt.plot(history.history['loss'])\n",
    "    plt.plot(history.history['val_loss'])\n",
    "    plt.title('Model loss')\n",
    "    plt.ylabel('Loss')\n",
    "    plt.xlabel('Epoch')\n",
    "    plt.legend(['Train', 'Test'], loc='upper right')\n",
    "    plt.show()"
   ]
  },
  {
   "cell_type": "markdown",
   "metadata": {},
   "source": [
    "### Importing Dataset"
   ]
  },
  {
   "cell_type": "code",
   "execution_count": 67,
   "metadata": {},
   "outputs": [],
   "source": [
    "\n",
    "filepath = \"Data/WELFake_Dataset.csv\"\n",
    "\n",
    "raw_data = pd.read_csv(filepath)\n"
   ]
  },
  {
   "cell_type": "markdown",
   "metadata": {},
   "source": [
    "### Data Cleaning"
   ]
  },
  {
   "cell_type": "code",
   "execution_count": 68,
   "metadata": {},
   "outputs": [
    {
     "name": "stdout",
     "output_type": "stream",
     "text": [
      "(71537, 3)\n"
     ]
    },
    {
     "data": {
      "text/html": [
       "<div>\n",
       "<style scoped>\n",
       "    .dataframe tbody tr th:only-of-type {\n",
       "        vertical-align: middle;\n",
       "    }\n",
       "\n",
       "    .dataframe tbody tr th {\n",
       "        vertical-align: top;\n",
       "    }\n",
       "\n",
       "    .dataframe thead th {\n",
       "        text-align: right;\n",
       "    }\n",
       "</style>\n",
       "<table border=\"1\" class=\"dataframe\">\n",
       "  <thead>\n",
       "    <tr style=\"text-align: right;\">\n",
       "      <th></th>\n",
       "      <th>title</th>\n",
       "      <th>text</th>\n",
       "      <th>label</th>\n",
       "    </tr>\n",
       "  </thead>\n",
       "  <tbody>\n",
       "    <tr>\n",
       "      <th>0</th>\n",
       "      <td>LAW ENFORCEMENT ON HIGH ALERT Following Threat...</td>\n",
       "      <td>No comment is expected from Barack Obama Membe...</td>\n",
       "      <td>1</td>\n",
       "    </tr>\n",
       "    <tr>\n",
       "      <th>2</th>\n",
       "      <td>UNBELIEVABLE! OBAMA’S ATTORNEY GENERAL SAYS MO...</td>\n",
       "      <td>Now, most of the demonstrators gathered last ...</td>\n",
       "      <td>1</td>\n",
       "    </tr>\n",
       "    <tr>\n",
       "      <th>3</th>\n",
       "      <td>Bobby Jindal, raised Hindu, uses story of Chri...</td>\n",
       "      <td>A dozen politically active pastors came here f...</td>\n",
       "      <td>0</td>\n",
       "    </tr>\n",
       "    <tr>\n",
       "      <th>4</th>\n",
       "      <td>SATAN 2: Russia unvelis an image of its terrif...</td>\n",
       "      <td>The RS-28 Sarmat missile, dubbed Satan 2, will...</td>\n",
       "      <td>1</td>\n",
       "    </tr>\n",
       "    <tr>\n",
       "      <th>5</th>\n",
       "      <td>About Time! Christian Group Sues Amazon and SP...</td>\n",
       "      <td>All we can say on this one is it s about time ...</td>\n",
       "      <td>1</td>\n",
       "    </tr>\n",
       "  </tbody>\n",
       "</table>\n",
       "</div>"
      ],
      "text/plain": [
       "                                               title  \\\n",
       "0  LAW ENFORCEMENT ON HIGH ALERT Following Threat...   \n",
       "2  UNBELIEVABLE! OBAMA’S ATTORNEY GENERAL SAYS MO...   \n",
       "3  Bobby Jindal, raised Hindu, uses story of Chri...   \n",
       "4  SATAN 2: Russia unvelis an image of its terrif...   \n",
       "5  About Time! Christian Group Sues Amazon and SP...   \n",
       "\n",
       "                                                text  label  \n",
       "0  No comment is expected from Barack Obama Membe...      1  \n",
       "2   Now, most of the demonstrators gathered last ...      1  \n",
       "3  A dozen politically active pastors came here f...      0  \n",
       "4  The RS-28 Sarmat missile, dubbed Satan 2, will...      1  \n",
       "5  All we can say on this one is it s about time ...      1  "
      ]
     },
     "execution_count": 68,
     "metadata": {},
     "output_type": "execute_result"
    }
   ],
   "source": [
    "\n",
    "cols = [x for x in raw_data.columns if x in ['title', 'text', 'label']]\n",
    "clean_data = raw_data[cols]\n",
    "clean_data.dropna(axis=0, inplace=True)\n",
    "print(clean_data.shape)\n",
    "clean_data.head()"
   ]
  },
  {
   "cell_type": "markdown",
   "metadata": {},
   "source": [
    "### EDA"
   ]
  },
  {
   "cell_type": "code",
   "execution_count": 69,
   "metadata": {},
   "outputs": [
    {
     "data": {
      "image/png": "[encoded data removed]",
      "text/plain": [
       "<Figure size 432x288 with 1 Axes>"
      ]
     },
     "metadata": {
      "needs_background": "light"
     },
     "output_type": "display_data"
    }
   ],
   "source": [
    "fulldata_countplot = CountPlot(clean_data['label'], 'Fake vs Real News Count of the Whole Dataset')"
   ]
  },
  {
   "cell_type": "code",
   "execution_count": 18,
   "metadata": {},
   "outputs": [
    {
     "data": {
      "image/png": "[encoded data removed]",
      "text/plain": [
       "<Figure size 432x288 with 1 Axes>"
      ]
     },
     "metadata": {
      "needs_background": "light"
     },
     "output_type": "display_data"
    }
   ],
   "source": [
    "subsetdata_countplot = CountPlot(subset_data_one['label'], 'Fake vs Real News Count of Subset Dataset')"
   ]
  },
  {
   "cell_type": "markdown",
   "metadata": {},
   "source": [
    "### Generating Data Corpus"
   ]
  },
  {
   "cell_type": "code",
   "execution_count": 71,
   "metadata": {},
   "outputs": [
    {
     "name": "stderr",
     "output_type": "stream",
     "text": [
      "[nltk_data] Downloading package stopwords to\n",
      "[nltk_data]     /Users/liamwebster/nltk_data...\n",
      "[nltk_data]   Package stopwords is already up-to-date!\n",
      "[nltk_data] Downloading package punkt to\n",
      "[nltk_data]     /Users/liamwebster/nltk_data...\n",
      "[nltk_data]   Package punkt is already up-to-date!\n",
      "[nltk_data] Downloading package wordnet to\n",
      "[nltk_data]     /Users/liamwebster/nltk_data...\n",
      "[nltk_data]   Package wordnet is already up-to-date!\n",
      "[nltk_data] Downloading package omw-1.4 to\n",
      "[nltk_data]     /Users/liamwebster/nltk_data...\n",
      "[nltk_data]   Package omw-1.4 is already up-to-date!\n"
     ]
    }
   ],
   "source": [
    "corpus_one = CorpusGen(clean_data['text'])"
   ]
  },
  {
   "cell_type": "code",
   "execution_count": 72,
   "metadata": {},
   "outputs": [],
   "source": [
    "# Tokenize text\n",
    "\n",
    "tokenizer = Tokenizer()\n",
    "tokenizer.fit_on_texts(corpus_one)\n",
    "word_index = tokenizer.word_index\n",
    "vocab_size=len(word_index)\n",
    "sequences = tokenizer.texts_to_sequences(corpus_one)"
   ]
  },
  {
   "cell_type": "code",
   "execution_count": 22,
   "metadata": {},
   "outputs": [
    {
     "name": "stdout",
     "output_type": "stream",
     "text": [
      "Percentage of Articles with length less than 600 words:  89.33389250017474\n"
     ]
    },
    {
     "data": {
      "image/png": "[encoded data removed]",
      "text/plain": [
       "<Figure size 432x288 with 1 Axes>"
      ]
     },
     "metadata": {
      "needs_background": "light"
     },
     "output_type": "display_data"
    }
   ],
   "source": [
    "list = []\n",
    "count = 0\n",
    "for i in range(14307):\n",
    "    length = len(sequences[i])\n",
    "    list.append(length)\n",
    "    if length <= 600:\n",
    "        count += 1\n",
    "\n",
    "plt.hist(list, bins=100)\n",
    "plt.xlim(0,4000)\n",
    "plt.xlabel('Length of Stories')\n",
    "plt.ylabel('Number of Stories')\n",
    "plt.title('Distribution of Story Length')\n",
    "percent = count / len(sequences)\n",
    "print('Percentage of Articles with length less than 600 words:  ' + str((count / len(sequences) * 100)))"
   ]
  },
  {
   "cell_type": "code",
   "execution_count": 74,
   "metadata": {},
   "outputs": [],
   "source": [
    "\n",
    "padded = pad_sequences(sequences, maxlen=600, padding='post', truncating='post')\n",
    "X_train, X_test, y_train, y_test = train_test_split(padded,clean_data['label'], test_size=0.2, random_state=42)"
   ]
  },
  {
   "cell_type": "code",
   "execution_count": 75,
   "metadata": {},
   "outputs": [
    {
     "name": "stdout",
     "output_type": "stream",
     "text": [
      "100\n"
     ]
    }
   ],
   "source": [
    "embeddings_index = {};\n",
    "with open('Data/glove.6B.100d.txt', encoding=\"utf8\") as f:\n",
    "    for line in f:\n",
    "        values = line.split();\n",
    "        word = values[0];\n",
    "        coefs = np.asarray(values[1:], dtype='float32');\n",
    "        embeddings_index[word] = coefs;\n",
    "print(len(coefs))\n",
    "\n",
    "embeddings_matrix = np.zeros((vocab_size+1, 100));\n",
    "for word, i in word_index.items():\n",
    "    embedding_vector = embeddings_index.get(word);\n",
    "    if embedding_vector is not None:\n",
    "        embeddings_matrix[i] = embedding_vector;"
   ]
  },
  {
   "cell_type": "markdown",
   "metadata": {},
   "source": [
    "### Model 1"
   ]
  },
  {
   "cell_type": "code",
   "execution_count": 45,
   "metadata": {},
   "outputs": [],
   "source": [
    "rnn_hidden_dim = 10\n",
    "model_rnn1 = Sequential()\n",
    "model_rnn1.add(Embedding(vocab_size + 1, 100, weights=[embeddings_matrix], trainable=False)) \n",
    "model_rnn1.add(LSTM(rnn_hidden_dim, return_sequences=True))\n",
    "model_rnn1.add(Dense(1, activation='sigmoid'))"
   ]
  },
  {
   "cell_type": "code",
   "execution_count": 46,
   "metadata": {},
   "outputs": [],
   "source": [
    "rmsprop = keras.optimizers.RMSprop(lr = .01)\n",
    "\n",
    "model_rnn1.compile(loss='binary_crossentropy', optimizer=rmsprop, metrics=['accuracy'])"
   ]
  },
  {
   "cell_type": "code",
   "execution_count": 47,
   "metadata": {},
   "outputs": [
    {
     "name": "stdout",
     "output_type": "stream",
     "text": [
      "Epoch 1/5\n",
      "179/179 [==============================] - 22s 115ms/step - loss: 0.5088 - accuracy: 0.7494 - val_loss: 0.4860 - val_accuracy: 0.7434\n",
      "Epoch 2/5\n",
      "179/179 [==============================] - 20s 110ms/step - loss: 0.3592 - accuracy: 0.8463 - val_loss: 0.3188 - val_accuracy: 0.8723\n",
      "Epoch 3/5\n",
      "179/179 [==============================] - 20s 112ms/step - loss: 0.3182 - accuracy: 0.8702 - val_loss: 0.3323 - val_accuracy: 0.8758\n",
      "Epoch 4/5\n",
      "179/179 [==============================] - 20s 111ms/step - loss: 0.2708 - accuracy: 0.8875 - val_loss: 0.2546 - val_accuracy: 0.8902\n",
      "Epoch 5/5\n",
      "179/179 [==============================] - 20s 112ms/step - loss: 0.2385 - accuracy: 0.9008 - val_loss: 0.2447 - val_accuracy: 0.8920\n"
     ]
    },
    {
     "data": {
      "text/plain": [
       "<keras.callbacks.History at 0x2b38aa10790>"
      ]
     },
     "execution_count": 47,
     "metadata": {},
     "output_type": "execute_result"
    }
   ],
   "source": [
    "model_rnn1.fit(X_train, y_train,\n",
    "          batch_size=64,\n",
    "          epochs=5,\n",
    "          validation_data=(X_test, y_test))"
   ]
  },
  {
   "cell_type": "markdown",
   "metadata": {},
   "source": [
    "### Model 2"
   ]
  },
  {
   "cell_type": "code",
   "execution_count": 43,
   "metadata": {},
   "outputs": [],
   "source": [
    "rnn_hidden_dim = 20\n",
    "model_rnn2 = Sequential()\n",
    "model_rnn2.add(Embedding(vocab_size + 1, 100, weights=[embeddings_matrix], trainable=False))  \n",
    "model_rnn2.add(Dropout(0.2))\n",
    "model_rnn2.add(LSTM(rnn_hidden_dim, return_sequences=True))\n",
    "model_rnn2.add(Dropout(0.2))\n",
    "model_rnn2.add(Dense(256))\n",
    "model_rnn2.add(Dense(1, activation='sigmoid'))"
   ]
  },
  {
   "cell_type": "code",
   "execution_count": 44,
   "metadata": {},
   "outputs": [],
   "source": [
    "rmsprop = keras.optimizers.RMSprop(lr = .01)\n",
    "\n",
    "model_rnn2.compile(loss='binary_crossentropy', optimizer=rmsprop, metrics=['accuracy'])"
   ]
  },
  {
   "cell_type": "code",
   "execution_count": 42,
   "metadata": {},
   "outputs": [
    {
     "name": "stdout",
     "output_type": "stream",
     "text": [
      "Epoch 1/10\n",
      "179/179 [==============================] - 33s 177ms/step - loss: 0.5682 - accuracy: 0.7261 - val_loss: 0.4205 - val_accuracy: 0.8475\n",
      "Epoch 2/10\n",
      "179/179 [==============================] - 31s 173ms/step - loss: 0.4077 - accuracy: 0.8392 - val_loss: 0.3275 - val_accuracy: 0.8728\n",
      "Epoch 3/10\n",
      "179/179 [==============================] - 31s 174ms/step - loss: 0.3346 - accuracy: 0.8680 - val_loss: 0.3217 - val_accuracy: 0.8817\n",
      "Epoch 4/10\n",
      "179/179 [==============================] - 31s 175ms/step - loss: 0.3097 - accuracy: 0.8828 - val_loss: 0.4629 - val_accuracy: 0.8117\n",
      "Epoch 5/10\n",
      "179/179 [==============================] - 31s 174ms/step - loss: 0.2821 - accuracy: 0.8925 - val_loss: 0.2562 - val_accuracy: 0.9065\n",
      "Epoch 6/10\n",
      "179/179 [==============================] - 31s 174ms/step - loss: 0.2407 - accuracy: 0.9056 - val_loss: 0.2403 - val_accuracy: 0.9079\n",
      "Epoch 7/10\n",
      "179/179 [==============================] - 32s 180ms/step - loss: 0.2461 - accuracy: 0.9063 - val_loss: 0.2323 - val_accuracy: 0.9134\n",
      "Epoch 8/10\n",
      "179/179 [==============================] - 33s 187ms/step - loss: 0.2285 - accuracy: 0.9135 - val_loss: 0.2567 - val_accuracy: 0.8907\n",
      "Epoch 9/10\n",
      "179/179 [==============================] - 34s 189ms/step - loss: 0.2228 - accuracy: 0.9147 - val_loss: 0.3041 - val_accuracy: 0.8698\n",
      "Epoch 10/10\n",
      "179/179 [==============================] - 34s 188ms/step - loss: 0.2099 - accuracy: 0.9187 - val_loss: 0.2124 - val_accuracy: 0.9167\n"
     ]
    },
    {
     "data": {
      "text/plain": [
       "<keras.callbacks.History at 0x2b3907a9ea0>"
      ]
     },
     "execution_count": 42,
     "metadata": {},
     "output_type": "execute_result"
    }
   ],
   "source": [
    "model_rnn2.fit(X_train, y_train,\n",
    "          batch_size=64,\n",
    "          epochs=10,\n",
    "          validation_data=(X_test, y_test))"
   ]
  },
  {
   "cell_type": "markdown",
   "metadata": {},
   "source": [
    "### Model 3"
   ]
  },
  {
   "cell_type": "code",
   "execution_count": 76,
   "metadata": {},
   "outputs": [],
   "source": [
    "rnn_hidden_dim = 20\n",
    "model_rnn3 = Sequential()\n",
    "model_rnn3.add(Embedding(vocab_size+1, 100, weights=[embeddings_matrix], trainable=False))\n",
    "model_rnn3.add(Dropout(0.2))\n",
    "model_rnn3.add(Conv1D(64, 5, activation='relu'))\n",
    "model_rnn3.add(MaxPooling1D(pool_size=4))\n",
    "model_rnn3.add(LSTM(20, return_sequences=True))\n",
    "model_rnn3.add(LSTM(20))\n",
    "model_rnn3.add(Dropout(0.2))\n",
    "model_rnn3.add(Dense(512))\n",
    "model_rnn3.add(Dropout(0.3))\n",
    "model_rnn3.add(Dense(256))\n",
    "model_rnn3.add(Dense(1, activation='sigmoid'))"
   ]
  },
  {
   "cell_type": "code",
   "execution_count": 77,
   "metadata": {},
   "outputs": [
    {
     "name": "stdout",
     "output_type": "stream",
     "text": [
      "Epoch 1/10\n",
      "573/573 [==============================] - 152s 258ms/step - loss: 0.3682 - accuracy: 0.8275 - val_loss: 0.1999 - val_accuracy: 0.9219\n",
      "Epoch 2/10\n",
      "573/573 [==============================] - 143s 249ms/step - loss: 0.1862 - accuracy: 0.9286 - val_loss: 0.1488 - val_accuracy: 0.9395\n",
      "Epoch 3/10\n",
      "573/573 [==============================] - 181s 316ms/step - loss: 0.1405 - accuracy: 0.9471 - val_loss: 0.1172 - val_accuracy: 0.9558\n",
      "Epoch 4/10\n",
      "573/573 [==============================] - 141s 246ms/step - loss: 0.1198 - accuracy: 0.9541 - val_loss: 0.1133 - val_accuracy: 0.9593\n",
      "Epoch 5/10\n",
      "573/573 [==============================] - 141s 246ms/step - loss: 0.1040 - accuracy: 0.9601 - val_loss: 0.1181 - val_accuracy: 0.9611\n",
      "Epoch 6/10\n",
      "573/573 [==============================] - 139s 243ms/step - loss: 0.0957 - accuracy: 0.9633 - val_loss: 0.0972 - val_accuracy: 0.9637\n",
      "Epoch 7/10\n",
      "573/573 [==============================] - 140s 245ms/step - loss: 0.0878 - accuracy: 0.9675 - val_loss: 0.1035 - val_accuracy: 0.9641\n",
      "Epoch 8/10\n",
      "573/573 [==============================] - 140s 244ms/step - loss: 0.0778 - accuracy: 0.9709 - val_loss: 0.1057 - val_accuracy: 0.9630\n",
      "Epoch 9/10\n",
      "573/573 [==============================] - 326s 570ms/step - loss: 0.0708 - accuracy: 0.9730 - val_loss: 0.1014 - val_accuracy: 0.9652\n",
      "Epoch 10/10\n",
      "573/573 [==============================] - 140s 244ms/step - loss: 0.0676 - accuracy: 0.9747 - val_loss: 0.1314 - val_accuracy: 0.9459\n"
     ]
    },
    {
     "data": {
      "image/png": "[encoded data removed]",
      "text/plain": [
       "<Figure size 432x288 with 1 Axes>"
      ]
     },
     "metadata": {
      "needs_background": "light"
     },
     "output_type": "display_data"
    },
    {
     "data": {
      "image/png": "[encoded data removed]",
      "text/plain": [
       "<Figure size 432x288 with 1 Axes>"
      ]
     },
     "metadata": {
      "needs_background": "light"
     },
     "output_type": "display_data"
    }
   ],
   "source": [
    "\n",
    "model_rnn3.compile(loss='binary_crossentropy',optimizer='adam',metrics=['accuracy'])\n",
    "\n",
    "history = model_rnn3.fit(X_train, y_train, \n",
    "                    epochs=10, \n",
    "                    batch_size=100, \n",
    "                    validation_data=(X_test, y_test))\n",
    "plot(history)"
   ]
  },
  {
   "cell_type": "code",
   "execution_count": 99,
   "metadata": {},
   "outputs": [
    {
     "name": "stderr",
     "output_type": "stream",
     "text": [
      "WARNING:absl:Found untraced functions such as _jit_compiled_convolution_op, lstm_cell_2_layer_call_fn, lstm_cell_2_layer_call_and_return_conditional_losses, lstm_cell_3_layer_call_fn, lstm_cell_3_layer_call_and_return_conditional_losses while saving (showing 5 of 5). These functions will not be directly callable after loading.\n"
     ]
    },
    {
     "name": "stdout",
     "output_type": "stream",
     "text": [
      "INFO:tensorflow:Assets written to: final_model_tf/assets\n"
     ]
    },
    {
     "name": "stderr",
     "output_type": "stream",
     "text": [
      "INFO:tensorflow:Assets written to: final_model_tf/assets\n"
     ]
    },
    {
     "name": "stdout",
     "output_type": "stream",
     "text": [
      "Successfully Saved Model to Disk\n"
     ]
    }
   ],
   "source": [
    "import pickle\n",
    "\n",
    "# saving\n",
    "with open('tokenizer.pickle', 'wb') as handle:\n",
    "    pickle.dump(tokenizer, handle, protocol=pickle.HIGHEST_PROTOCOL)\n",
    "\n",
    "model_rnn3.save(\"final_model_tf\", save_format='tf')\n",
    "print(\"Successfully Saved Model to Disk\")"
   ]
  },
  {
   "cell_type": "markdown",
   "metadata": {},
   "source": [
    "### Testing Final Model(Model 3) on another Dataset"
   ]
  },
  {
   "cell_type": "code",
   "execution_count": 79,
   "metadata": {},
   "outputs": [
    {
     "name": "stdout",
     "output_type": "stream",
     "text": [
      "(6335, 3)\n"
     ]
    },
    {
     "data": {
      "text/html": [
       "<div>\n",
       "<style scoped>\n",
       "    .dataframe tbody tr th:only-of-type {\n",
       "        vertical-align: middle;\n",
       "    }\n",
       "\n",
       "    .dataframe tbody tr th {\n",
       "        vertical-align: top;\n",
       "    }\n",
       "\n",
       "    .dataframe thead th {\n",
       "        text-align: right;\n",
       "    }\n",
       "</style>\n",
       "<table border=\"1\" class=\"dataframe\">\n",
       "  <thead>\n",
       "    <tr style=\"text-align: right;\">\n",
       "      <th></th>\n",
       "      <th>title</th>\n",
       "      <th>text</th>\n",
       "      <th>label</th>\n",
       "    </tr>\n",
       "  </thead>\n",
       "  <tbody>\n",
       "    <tr>\n",
       "      <th>0</th>\n",
       "      <td>You Can Smell Hillary’s Fear</td>\n",
       "      <td>Daniel Greenfield, a Shillman Journalism Fello...</td>\n",
       "      <td>FAKE</td>\n",
       "    </tr>\n",
       "    <tr>\n",
       "      <th>1</th>\n",
       "      <td>Watch The Exact Moment Paul Ryan Committed Pol...</td>\n",
       "      <td>Google Pinterest Digg Linkedin Reddit Stumbleu...</td>\n",
       "      <td>FAKE</td>\n",
       "    </tr>\n",
       "    <tr>\n",
       "      <th>2</th>\n",
       "      <td>Kerry to go to Paris in gesture of sympathy</td>\n",
       "      <td>U.S. Secretary of State John F. Kerry said Mon...</td>\n",
       "      <td>REAL</td>\n",
       "    </tr>\n",
       "    <tr>\n",
       "      <th>3</th>\n",
       "      <td>Bernie supporters on Twitter erupt in anger ag...</td>\n",
       "      <td>— Kaydee King (@KaydeeKing) November 9, 2016 T...</td>\n",
       "      <td>FAKE</td>\n",
       "    </tr>\n",
       "    <tr>\n",
       "      <th>4</th>\n",
       "      <td>The Battle of New York: Why This Primary Matters</td>\n",
       "      <td>It's primary day in New York and front-runners...</td>\n",
       "      <td>REAL</td>\n",
       "    </tr>\n",
       "  </tbody>\n",
       "</table>\n",
       "</div>"
      ],
      "text/plain": [
       "                                               title  \\\n",
       "0                       You Can Smell Hillary’s Fear   \n",
       "1  Watch The Exact Moment Paul Ryan Committed Pol...   \n",
       "2        Kerry to go to Paris in gesture of sympathy   \n",
       "3  Bernie supporters on Twitter erupt in anger ag...   \n",
       "4   The Battle of New York: Why This Primary Matters   \n",
       "\n",
       "                                                text label  \n",
       "0  Daniel Greenfield, a Shillman Journalism Fello...  FAKE  \n",
       "1  Google Pinterest Digg Linkedin Reddit Stumbleu...  FAKE  \n",
       "2  U.S. Secretary of State John F. Kerry said Mon...  REAL  \n",
       "3  — Kaydee King (@KaydeeKing) November 9, 2016 T...  FAKE  \n",
       "4  It's primary day in New York and front-runners...  REAL  "
      ]
     },
     "execution_count": 79,
     "metadata": {},
     "output_type": "execute_result"
    }
   ],
   "source": [
    "filepath = \"Data/fake_or_real_news.csv\"\n",
    "\n",
    "raw_data2 = pd.read_csv(filepath)\n",
    "\n",
    "# Data Cleaning\n",
    "cols = ['title', 'text', 'label']\n",
    "clean_data2 = raw_data2[cols]\n",
    "clean_data2.dropna(axis=0, inplace=True)\n",
    "print(clean_data2.shape)\n",
    "clean_data2.head()"
   ]
  },
  {
   "cell_type": "code",
   "execution_count": 80,
   "metadata": {},
   "outputs": [
    {
     "data": {
      "text/html": [
       "<div>\n",
       "<style scoped>\n",
       "    .dataframe tbody tr th:only-of-type {\n",
       "        vertical-align: middle;\n",
       "    }\n",
       "\n",
       "    .dataframe tbody tr th {\n",
       "        vertical-align: top;\n",
       "    }\n",
       "\n",
       "    .dataframe thead th {\n",
       "        text-align: right;\n",
       "    }\n",
       "</style>\n",
       "<table border=\"1\" class=\"dataframe\">\n",
       "  <thead>\n",
       "    <tr style=\"text-align: right;\">\n",
       "      <th></th>\n",
       "      <th>title</th>\n",
       "      <th>text</th>\n",
       "      <th>label</th>\n",
       "    </tr>\n",
       "  </thead>\n",
       "  <tbody>\n",
       "    <tr>\n",
       "      <th>0</th>\n",
       "      <td>You Can Smell Hillary’s Fear</td>\n",
       "      <td>Daniel Greenfield, a Shillman Journalism Fello...</td>\n",
       "      <td>0</td>\n",
       "    </tr>\n",
       "    <tr>\n",
       "      <th>1</th>\n",
       "      <td>Watch The Exact Moment Paul Ryan Committed Pol...</td>\n",
       "      <td>Google Pinterest Digg Linkedin Reddit Stumbleu...</td>\n",
       "      <td>0</td>\n",
       "    </tr>\n",
       "    <tr>\n",
       "      <th>2</th>\n",
       "      <td>Kerry to go to Paris in gesture of sympathy</td>\n",
       "      <td>U.S. Secretary of State John F. Kerry said Mon...</td>\n",
       "      <td>1</td>\n",
       "    </tr>\n",
       "    <tr>\n",
       "      <th>3</th>\n",
       "      <td>Bernie supporters on Twitter erupt in anger ag...</td>\n",
       "      <td>— Kaydee King (@KaydeeKing) November 9, 2016 T...</td>\n",
       "      <td>0</td>\n",
       "    </tr>\n",
       "    <tr>\n",
       "      <th>4</th>\n",
       "      <td>The Battle of New York: Why This Primary Matters</td>\n",
       "      <td>It's primary day in New York and front-runners...</td>\n",
       "      <td>1</td>\n",
       "    </tr>\n",
       "  </tbody>\n",
       "</table>\n",
       "</div>"
      ],
      "text/plain": [
       "                                               title  \\\n",
       "0                       You Can Smell Hillary’s Fear   \n",
       "1  Watch The Exact Moment Paul Ryan Committed Pol...   \n",
       "2        Kerry to go to Paris in gesture of sympathy   \n",
       "3  Bernie supporters on Twitter erupt in anger ag...   \n",
       "4   The Battle of New York: Why This Primary Matters   \n",
       "\n",
       "                                                text  label  \n",
       "0  Daniel Greenfield, a Shillman Journalism Fello...      0  \n",
       "1  Google Pinterest Digg Linkedin Reddit Stumbleu...      0  \n",
       "2  U.S. Secretary of State John F. Kerry said Mon...      1  \n",
       "3  — Kaydee King (@KaydeeKing) November 9, 2016 T...      0  \n",
       "4  It's primary day in New York and front-runners...      1  "
      ]
     },
     "execution_count": 80,
     "metadata": {},
     "output_type": "execute_result"
    }
   ],
   "source": [
    "\n",
    "clean_data2.replace('FAKE', 0, inplace=True)\n",
    "clean_data2.replace('REAL', 1, inplace=True)\n",
    "clean_data2.head()"
   ]
  },
  {
   "cell_type": "code",
   "execution_count": 81,
   "metadata": {},
   "outputs": [
    {
     "name": "stderr",
     "output_type": "stream",
     "text": [
      "[nltk_data] Downloading package stopwords to\n",
      "[nltk_data]     /Users/liamwebster/nltk_data...\n",
      "[nltk_data]   Package stopwords is already up-to-date!\n",
      "[nltk_data] Downloading package punkt to\n",
      "[nltk_data]     /Users/liamwebster/nltk_data...\n",
      "[nltk_data]   Package punkt is already up-to-date!\n",
      "[nltk_data] Downloading package wordnet to\n",
      "[nltk_data]     /Users/liamwebster/nltk_data...\n",
      "[nltk_data]   Package wordnet is already up-to-date!\n",
      "[nltk_data] Downloading package omw-1.4 to\n",
      "[nltk_data]     /Users/liamwebster/nltk_data...\n",
      "[nltk_data]   Package omw-1.4 is already up-to-date!\n"
     ]
    }
   ],
   "source": [
    "corpus_two = CorpusGen(clean_data2['text'])"
   ]
  },
  {
   "cell_type": "code",
   "execution_count": 82,
   "metadata": {},
   "outputs": [],
   "source": [
    "sequences2 = tokenizer.texts_to_sequences(corpus_two)\n",
    "padded2 = pad_sequences(sequences2, maxlen=600, padding='post', truncating='post')\n"
   ]
  },
  {
   "cell_type": "code",
   "execution_count": 88,
   "metadata": {},
   "outputs": [
    {
     "name": "stdout",
     "output_type": "stream",
     "text": [
      "198/198 [==============================] - 6s 32ms/step\n"
     ]
    }
   ],
   "source": [
    "prediction2 = model_rnn3.predict(padded2)"
   ]
  },
  {
   "cell_type": "code",
   "execution_count": 94,
   "metadata": {},
   "outputs": [],
   "source": [
    "binary_pred = []\n",
    "for i in range(len(prediction2)):\n",
    "    if (prediction2[i] > 0.50):\n",
    "        binary_pred.append(1)\n",
    "    else:\n",
    "        binary_pred.append(0)\n"
   ]
  },
  {
   "cell_type": "code",
   "execution_count": 95,
   "metadata": {},
   "outputs": [],
   "source": [
    "correct = 0\n",
    "incorrect = 0\n",
    "total = 0\n",
    "for i in range(len(binary_pred)):\n",
    "    if(binary_pred[i] == clean_data2.loc[i,'label']):\n",
    "        correct += 1\n",
    "    else:\n",
    "        incorrect += 1\n",
    "\n",
    "total = correct + incorrect"
   ]
  },
  {
   "cell_type": "code",
   "execution_count": 98,
   "metadata": {},
   "outputs": [
    {
     "data": {
      "text/plain": [
       "98.27940015785319"
      ]
     },
     "execution_count": 98,
     "metadata": {},
     "output_type": "execute_result"
    }
   ],
   "source": [
    "correct / total * 100"
   ]
  },
  {
   "cell_type": "code",
   "execution_count": 87,
   "metadata": {},
   "outputs": [
    {
     "name": "stdout",
     "output_type": "stream",
     "text": [
      "Epoch 1/10\n",
      "51/51 [==============================] - 13s 262ms/step - loss: 0.7409 - accuracy: 0.5414 - val_loss: 0.6580 - val_accuracy: 0.6006\n",
      "Epoch 2/10\n",
      "51/51 [==============================] - 14s 270ms/step - loss: 0.6270 - accuracy: 0.6180 - val_loss: 0.5377 - val_accuracy: 0.7056\n",
      "Epoch 3/10\n",
      "51/51 [==============================] - 15s 293ms/step - loss: 0.5086 - accuracy: 0.7575 - val_loss: 0.3371 - val_accuracy: 0.8792\n",
      "Epoch 4/10\n",
      "51/51 [==============================] - 14s 267ms/step - loss: 0.2852 - accuracy: 0.8964 - val_loss: 0.1399 - val_accuracy: 0.9590\n",
      "Epoch 5/10\n",
      "51/51 [==============================] - 13s 256ms/step - loss: 0.1657 - accuracy: 0.9451 - val_loss: 0.1163 - val_accuracy: 0.9653\n",
      "Epoch 6/10\n",
      "51/51 [==============================] - 13s 252ms/step - loss: 0.1214 - accuracy: 0.9599 - val_loss: 0.1692 - val_accuracy: 0.9337\n",
      "Epoch 7/10\n",
      "51/51 [==============================] - 12s 242ms/step - loss: 0.1451 - accuracy: 0.9503 - val_loss: 0.2069 - val_accuracy: 0.9503\n",
      "Epoch 8/10\n",
      "51/51 [==============================] - 13s 247ms/step - loss: 0.1192 - accuracy: 0.9605 - val_loss: 0.1377 - val_accuracy: 0.9479\n",
      "Epoch 9/10\n",
      "51/51 [==============================] - 15s 293ms/step - loss: 0.0976 - accuracy: 0.9678 - val_loss: 0.1523 - val_accuracy: 0.9542\n",
      "Epoch 10/10\n",
      "51/51 [==============================] - 14s 278ms/step - loss: 0.0603 - accuracy: 0.9803 - val_loss: 0.1665 - val_accuracy: 0.9597\n"
     ]
    },
    {
     "data": {
      "image/png": "[encoded data removed]",
      "text/plain": [
       "<Figure size 432x288 with 1 Axes>"
      ]
     },
     "metadata": {
      "needs_background": "light"
     },
     "output_type": "display_data"
    },
    {
     "data": {
      "image/png": "[encoded data removed]",
      "text/plain": [
       "<Figure size 432x288 with 1 Axes>"
      ]
     },
     "metadata": {
      "needs_background": "light"
     },
     "output_type": "display_data"
    }
   ],
   "source": [
    "X_train2, X_test2, y_train2, y_test2 = train_test_split(padded2,clean_data2['label'], test_size=0.2, random_state=42)\n",
    "history = model_rnn3.fit(X_train2, y_train2, \n",
    "                    epochs=10, \n",
    "                    batch_size=100, \n",
    "                    validation_data=(X_test2, y_test2))\n",
    "plot(history)"
   ]
  },
  {
   "cell_type": "code",
   "execution_count": 1,
   "metadata": {},
   "outputs": [
    {
     "ename": "NameError",
     "evalue": "name 'model_rnn3' is not defined",
     "output_type": "error",
     "traceback": [
      "\u001b[0;31m---------------------------------------------------------------------------\u001b[0m",
      "\u001b[0;31mNameError\u001b[0m                                 Traceback (most recent call last)",
      "\u001b[0;32m<ipython-input-1-00ae929efa6e>\u001b[0m in \u001b[0;36m<module>\u001b[0;34m\u001b[0m\n\u001b[0;32m----> 1\u001b[0;31m \u001b[0mmodel_rnn3\u001b[0m\u001b[0;34m.\u001b[0m\u001b[0msummary\u001b[0m\u001b[0;34m\u001b[0m\u001b[0;34m\u001b[0m\u001b[0m\n\u001b[0m",
      "\u001b[0;31mNameError\u001b[0m: name 'model_rnn3' is not defined"
     ]
    }
   ],
   "source": [
    "model_rnn3.summary"
   ]
  },
  {
   "cell_type": "code",
   "execution_count": 4,
   "metadata": {},
   "outputs": [],
   "source": [
    "loaded_model = keras.models.load_model(\"final_model_tf\")\n"
   ]
  },
  {
   "cell_type": "code",
   "execution_count": 6,
   "metadata": {},
   "outputs": [
    {
     "name": "stdout",
     "output_type": "stream",
     "text": [
      "Model: \"sequential_1\"\n",
      "_________________________________________________________________\n",
      " Layer (type)                Output Shape              Param #   \n",
      "=================================================================\n",
      " embedding_1 (Embedding)     (None, None, 100)         19208700  \n",
      "                                                                 \n",
      " dropout_3 (Dropout)         (None, None, 100)         0         \n",
      "                                                                 \n",
      " conv1d_1 (Conv1D)           (None, None, 64)          32064     \n",
      "                                                                 \n",
      " max_pooling1d_1 (MaxPooling  (None, None, 64)         0         \n",
      " 1D)                                                             \n",
      "                                                                 \n",
      " lstm_2 (LSTM)               (None, None, 20)          6800      \n",
      "                                                                 \n",
      " lstm_3 (LSTM)               (None, 20)                3280      \n",
      "                                                                 \n",
      " dropout_4 (Dropout)         (None, 20)                0         \n",
      "                                                                 \n",
      " dense_3 (Dense)             (None, 512)               10752     \n",
      "                                                                 \n",
      " dropout_5 (Dropout)         (None, 512)               0         \n",
      "                                                                 \n",
      " dense_4 (Dense)             (None, 256)               131328    \n",
      "                                                                 \n",
      " dense_5 (Dense)             (None, 1)                 257       \n",
      "                                                                 \n",
      "=================================================================\n",
      "Total params: 19,393,181\n",
      "Trainable params: 184,481\n",
      "Non-trainable params: 19,208,700\n",
      "_________________________________________________________________\n"
     ]
    }
   ],
   "source": [
    "loaded_model.summary()"
   ]
  },
  {
   "cell_type": "code",
   "execution_count": null,
   "metadata": {},
   "outputs": [],
   "source": []
  }
 ],
 "metadata": {
  "kernelspec": {
   "display_name": "Python 3.9.6 64-bit",
   "language": "python",
   "name": "python3"
  },
  "language_info": {
   "codemirror_mode": {
    "name": "ipython",
    "version": 3
   },
   "file_extension": ".py",
   "mimetype": "text/x-python",
   "name": "python",
   "nbconvert_exporter": "python",
   "pygments_lexer": "ipython3",
   "version": "3.9.6"
  },
  "orig_nbformat": 4,
  "vscode": {
   "interpreter": {
    "hash": "aee8b7b246df8f9039afb4144a1f6fd8d2ca17a180786b69acc140d282b71a49"
   }
  }
 },
 "nbformat": 4,
 "nbformat_minor": 2
}
