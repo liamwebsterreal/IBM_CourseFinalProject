{
 "cells": [
  {
   "cell_type": "code",
   "execution_count": 66,
   "metadata": {},
   "outputs": [],
   "source": [
    "# Plan: Create a trading bot\n",
    "# TO DO:\n",
    "# Agent: the learner or interactor(the sentient)\n",
    "# Environment: the world the agent lives and interacts in\n",
    "# Policy: the rules the agent follows in response to changes in the Environment\n",
    "# Observation: changes in the environment of which are sent to the Agent\n",
    "# Action: reactions to observations made by the agent of which are sent to the Environment\n",
    "\n",
    "# Add a method to buy and sell certain amounts not all or nothing\n",
    "# Create different dataframes in bear or bull markets and differnte intervals(1hr, 1dy, etc) and lengths(1yr, 10yrs, etc)\n",
    "# create render method\n",
    "# create a random agent \n",
    "# create AI agent"
   ]
  },
  {
   "cell_type": "code",
   "execution_count": 7,
   "metadata": {},
   "outputs": [],
   "source": [
    "filepath = 'data\\BTC-USD_hourly2020.csv'\n",
    "data = pd.read_csv(filepath)\n"
   ]
  },
  {
   "cell_type": "code",
   "execution_count": 70,
   "metadata": {},
   "outputs": [
    {
     "data": {
      "text/html": [
       "<div>\n",
       "<style scoped>\n",
       "    .dataframe tbody tr th:only-of-type {\n",
       "        vertical-align: middle;\n",
       "    }\n",
       "\n",
       "    .dataframe tbody tr th {\n",
       "        vertical-align: top;\n",
       "    }\n",
       "\n",
       "    .dataframe thead th {\n",
       "        text-align: right;\n",
       "    }\n",
       "</style>\n",
       "<table border=\"1\" class=\"dataframe\">\n",
       "  <thead>\n",
       "    <tr style=\"text-align: right;\">\n",
       "      <th></th>\n",
       "      <th>Date</th>\n",
       "      <th>Open</th>\n",
       "      <th>High</th>\n",
       "      <th>Low</th>\n",
       "      <th>Close</th>\n",
       "      <th>Volume</th>\n",
       "    </tr>\n",
       "  </thead>\n",
       "  <tbody>\n",
       "    <tr>\n",
       "      <th>0</th>\n",
       "      <td>2020-04-23 00:00</td>\n",
       "      <td>7138.29</td>\n",
       "      <td>7158.70</td>\n",
       "      <td>7108.00</td>\n",
       "      <td>7122.21</td>\n",
       "      <td>81.59</td>\n",
       "    </tr>\n",
       "    <tr>\n",
       "      <th>1</th>\n",
       "      <td>2020-04-23 01:00</td>\n",
       "      <td>7126.30</td>\n",
       "      <td>7192.82</td>\n",
       "      <td>7118.33</td>\n",
       "      <td>7186.36</td>\n",
       "      <td>175.45</td>\n",
       "    </tr>\n",
       "    <tr>\n",
       "      <th>2</th>\n",
       "      <td>2020-04-23 02:00</td>\n",
       "      <td>7186.72</td>\n",
       "      <td>7193.13</td>\n",
       "      <td>7129.19</td>\n",
       "      <td>7130.00</td>\n",
       "      <td>131.63</td>\n",
       "    </tr>\n",
       "    <tr>\n",
       "      <th>3</th>\n",
       "      <td>2020-04-23 03:00</td>\n",
       "      <td>7130.92</td>\n",
       "      <td>7163.41</td>\n",
       "      <td>7117.97</td>\n",
       "      <td>7118.83</td>\n",
       "      <td>227.12</td>\n",
       "    </tr>\n",
       "    <tr>\n",
       "      <th>4</th>\n",
       "      <td>2020-04-23 04:00</td>\n",
       "      <td>7115.90</td>\n",
       "      <td>7137.92</td>\n",
       "      <td>7102.62</td>\n",
       "      <td>7132.38</td>\n",
       "      <td>60.48</td>\n",
       "    </tr>\n",
       "  </tbody>\n",
       "</table>\n",
       "</div>"
      ],
      "text/plain": [
       "               Date     Open     High      Low    Close  Volume\n",
       "0  2020-04-23 00:00  7138.29  7158.70  7108.00  7122.21   81.59\n",
       "1  2020-04-23 01:00  7126.30  7192.82  7118.33  7186.36  175.45\n",
       "2  2020-04-23 02:00  7186.72  7193.13  7129.19  7130.00  131.63\n",
       "3  2020-04-23 03:00  7130.92  7163.41  7117.97  7118.83  227.12\n",
       "4  2020-04-23 04:00  7115.90  7137.92  7102.62  7132.38   60.48"
      ]
     },
     "execution_count": 70,
     "metadata": {},
     "output_type": "execute_result"
    }
   ],
   "source": [
    "data.head()"
   ]
  },
  {
   "cell_type": "code",
   "execution_count": 71,
   "metadata": {},
   "outputs": [
    {
     "data": {
      "image/png": "[encoded data removed]",
      "text/plain": [
       "<Figure size 432x288 with 1 Axes>"
      ]
     },
     "metadata": {
      "needs_background": "light"
     },
     "output_type": "display_data"
    }
   ],
   "source": [
    "plt.plot(data['Date'], data['Open'])\n",
    "plt.title('Bitcoin Price 4/2020 to 10/2020', fontsize=14)\n",
    "plt.xlabel('Date', fontsize=10)\n",
    "plt.ylabel('Price(USD)', fontsize=10)\n",
    "plt.show()"
   ]
  },
  {
   "cell_type": "code",
   "execution_count": 4,
   "metadata": {},
   "outputs": [],
   "source": [
    "import gym\n",
    "import pandas as pd\n",
    "import numpy as np\n",
    "from gym import spaces\n",
    "from sklearn import preprocessing\n",
    "import matplotlib.pyplot as plt\n",
    "from utils import TradingGraph\n",
    "\n",
    "import warnings\n",
    "warnings.filterwarnings('ignore')\n"
   ]
  },
  {
   "cell_type": "code",
   "execution_count": 5,
   "metadata": {},
   "outputs": [],
   "source": [
    "MAX_TRADING_SESSION = 4301\n",
    "\n",
    "\n",
    "class TradingEnv(gym.Env):\n",
    "    metadata = {'render.modes': ['human', 'bot', 'none']}\n",
    "    scaler = preprocessing.MinMaxScaler()\n",
    "    viewer = None\n",
    "\n",
    "    def __init__(self, df, lookback_window_size=50, commission=0.00075, initial_balance=10000, serial=False):\n",
    "        super(TradingEnv, self).__init__()\n",
    "        self.df = df.dropna().reset_index()\n",
    "        self.lookback_window_size = lookback_window_size\n",
    "        self.initial_balance = initial_balance\n",
    "        self.commission = commission\n",
    "        self.serial = serial\n",
    "\n",
    "        # actions space 0: buy 100%, 1: hold, 2, sell 100%\n",
    "        self.action_space = spaces.Discrete(3)\n",
    "        self.observation_space = spaces.Box(low=0, high=1, shape=(\n",
    "            10, lookback_window_size + 1), dtype=np.float16)\n",
    "\n",
    "    def reset(self):\n",
    "        self.balance = self.initial_balance\n",
    "        self.net_worth = self.initial_balance\n",
    "        self.asset_held = 0\n",
    "\n",
    "        self._reset_session()\n",
    "\n",
    "        self.account_history = np.repeat([\n",
    "            [self.net_worth],\n",
    "            [0],\n",
    "            [0],\n",
    "            [0],\n",
    "            [0]],\n",
    "             self.lookback_window_size + 1, axis=1)\n",
    "\n",
    "        self.trades = []\n",
    "\n",
    "        return self._next_observation()\n",
    "\n",
    "    def step(self, action):\n",
    "        prev_net_worth = self.net_worth\n",
    "        current_price = self._get_current_price() + 0.01\n",
    "        self._take_action(action, current_price)\n",
    "        self.steps_left -= 1\n",
    "        self.current_step += 1\n",
    "\n",
    "        if self.steps_left == 0:\n",
    "            self.balance += self.asset_held * current_price\n",
    "            self.asset_held = 0\n",
    "            self._reset_session()\n",
    "        \n",
    "        obs = self._next_observation()\n",
    "        reward = self.net_worth - prev_net_worth\n",
    "        done = self.net_worth <= 0\n",
    "\n",
    "        return obs, reward, done, {}\n",
    "\n",
    "    def render(self, mode='human'):\n",
    "        if mode == 'human':\n",
    "            if self.viewer is None:\n",
    "                self.viewer = TradingGraph(self.df)\n",
    "            self.viewer.render(self.current_step, self.net_worth, self.trades)\n",
    "        elif mode == 'bot':\n",
    "            print('Current Step: ' + str(self.current_step))\n",
    "            print('Net Worth: ' + str(self.net_worth) + ' USD')\n",
    "            print('Cash Balance: ' + str(self.balance) + ' USD')\n",
    "            print('Asset Balance: ' + str(self.asset_held))\n",
    "\n",
    "    def _reset_session(self):\n",
    "        self.current_step = 0\n",
    "\n",
    "        if self.serial:\n",
    "            self.steps_left = len(self.df) - self.lookback_window_size - 1\n",
    "            self.frame_start = self.lookback_window_size\n",
    "        else:\n",
    "            self.steps_left = np.random.randint(1, MAX_TRADING_SESSION)\n",
    "            self.frame_start = np.random.randint(\n",
    "                self.lookback_window_size, len(self.df) - self.steps_left)\n",
    "\n",
    "        self.active_df = self.df[self.frame_start -\n",
    "                                 self.lookback_window_size:self.frame_start + self.steps_left]\n",
    "\n",
    "    def _next_observation(self):\n",
    "        end = self.current_step + self.lookback_window_size + 1\n",
    "\n",
    "        obs = np.array([\n",
    "            self.active_df['Open'].values[self.current_step:end],\n",
    "            self.active_df['High'].values[self.current_step:end],\n",
    "            self.active_df['Low'].values[self.current_step:end],\n",
    "            self.active_df['Close'].values[self.current_step:end],\n",
    "            self.active_df['Volume'].values[self.current_step:end],\n",
    "        ])\n",
    "\n",
    "        scaled_history = self.scaler.fit_transform(self.account_history)\n",
    "\n",
    "        obs = np.append(obs, scaled_history[:, -(self.lookback_window_size + 1):], axis= 0)\n",
    "    \n",
    "        return obs\n",
    "\n",
    "    def _take_action(self, action, current_price):\n",
    "        action_type = action\n",
    "\n",
    "        asset_bought = 0\n",
    "        asset_sold = 0\n",
    "        cost = 0\n",
    "        sales = 0\n",
    "\n",
    "        if action < 1: \n",
    "            cost = self.balance\n",
    "            asset_bought = (self.balance / current_price  * ( 1 - self.commission)) \n",
    "            self.asset_held += asset_bought\n",
    "            self.balance = 0\n",
    "        elif action > 1:\n",
    "            sale = self.asset_held * current_price * (1 - self.commission)\n",
    "            asset_sold = self.asset_held\n",
    "            self.asset_held = 0\n",
    "            self.balance += sales\n",
    "\n",
    "        if asset_sold > 0 or asset_bought > 0:\n",
    "            self.trades.append({\n",
    "                'step': self.frame_start+self.current_step,\n",
    "                'amount': asset_sold if asset_sold > 0 else asset_bought,\n",
    "                'total': sales if asset_sold > 0 else cost,\n",
    "                'type': \"sell\" if asset_sold > 0 else \"buy\"\n",
    "            })\n",
    "        \n",
    "        self.net_worth = self.balance + self.asset_held * current_price\n",
    "        self.account_history = np.append(self.account_history, [[self.net_worth], [asset_bought], [cost], [asset_sold], [sales]], axis=1)\n",
    "\n",
    "    def _get_current_price(self):\n",
    "        index = self.current_step\n",
    "        low = self.df.loc[index,'Low']\n",
    "        high = self.df.loc[index, 'High']\n",
    "        return (low + high) / 2"
   ]
  },
  {
   "cell_type": "code",
   "execution_count": 8,
   "metadata": {},
   "outputs": [
    {
     "data": {
      "text/plain": [
       "10000"
      ]
     },
     "execution_count": 8,
     "metadata": {},
     "output_type": "execute_result"
    }
   ],
   "source": [
    "env = TradingEnv(data, serial=True)\n",
    "env.reset()\n",
    "env.net_worth"
   ]
  },
  {
   "cell_type": "code",
   "execution_count": 10,
   "metadata": {},
   "outputs": [
    {
     "ename": "AttributeError",
     "evalue": "'TradingGraph' object has no attribute 'render'",
     "output_type": "error",
     "traceback": [
      "\u001b[1;31m---------------------------------------------------------------------------\u001b[0m",
      "\u001b[1;31mAttributeError\u001b[0m                            Traceback (most recent call last)",
      "\u001b[1;32mc:\\Users\\Liam's Computer\\Documents\\projects\\IBM_Course_Projects\\deep and reinforcement learning\\crypto_bot\\Env.ipynb Cell 8\u001b[0m in \u001b[0;36m<cell line: 1>\u001b[1;34m()\u001b[0m\n\u001b[1;32m----> <a href='vscode-notebook-cell:/c%3A/Users/Liam%27s%20Computer/Documents/projects/IBM_Course_Projects/deep%20and%20reinforcement%20learning/crypto_bot/Env.ipynb#ch0000007?line=0'>1</a>\u001b[0m env\u001b[39m.\u001b[39;49mrender()\n",
      "\u001b[1;32mc:\\Users\\Liam's Computer\\Documents\\projects\\IBM_Course_Projects\\deep and reinforcement learning\\crypto_bot\\Env.ipynb Cell 8\u001b[0m in \u001b[0;36mTradingEnv.render\u001b[1;34m(self, mode)\u001b[0m\n\u001b[0;32m     <a href='vscode-notebook-cell:/c%3A/Users/Liam%27s%20Computer/Documents/projects/IBM_Course_Projects/deep%20and%20reinforcement%20learning/crypto_bot/Env.ipynb#ch0000007?line=60'>61</a>\u001b[0m     \u001b[39mif\u001b[39;00m \u001b[39mself\u001b[39m\u001b[39m.\u001b[39mviewer \u001b[39mis\u001b[39;00m \u001b[39mNone\u001b[39;00m:\n\u001b[0;32m     <a href='vscode-notebook-cell:/c%3A/Users/Liam%27s%20Computer/Documents/projects/IBM_Course_Projects/deep%20and%20reinforcement%20learning/crypto_bot/Env.ipynb#ch0000007?line=61'>62</a>\u001b[0m         \u001b[39mself\u001b[39m\u001b[39m.\u001b[39mviewer \u001b[39m=\u001b[39m TradingGraph(\u001b[39mself\u001b[39m\u001b[39m.\u001b[39mdf)\n\u001b[1;32m---> <a href='vscode-notebook-cell:/c%3A/Users/Liam%27s%20Computer/Documents/projects/IBM_Course_Projects/deep%20and%20reinforcement%20learning/crypto_bot/Env.ipynb#ch0000007?line=62'>63</a>\u001b[0m     \u001b[39mself\u001b[39;49m\u001b[39m.\u001b[39;49mviewer\u001b[39m.\u001b[39;49mrender(\u001b[39mself\u001b[39m\u001b[39m.\u001b[39mcurrent_step, \u001b[39mself\u001b[39m\u001b[39m.\u001b[39mnet_worth, \u001b[39mself\u001b[39m\u001b[39m.\u001b[39mtrades)\n\u001b[0;32m     <a href='vscode-notebook-cell:/c%3A/Users/Liam%27s%20Computer/Documents/projects/IBM_Course_Projects/deep%20and%20reinforcement%20learning/crypto_bot/Env.ipynb#ch0000007?line=63'>64</a>\u001b[0m \u001b[39melif\u001b[39;00m mode \u001b[39m==\u001b[39m \u001b[39m'\u001b[39m\u001b[39mbot\u001b[39m\u001b[39m'\u001b[39m:\n\u001b[0;32m     <a href='vscode-notebook-cell:/c%3A/Users/Liam%27s%20Computer/Documents/projects/IBM_Course_Projects/deep%20and%20reinforcement%20learning/crypto_bot/Env.ipynb#ch0000007?line=64'>65</a>\u001b[0m     \u001b[39mprint\u001b[39m(\u001b[39m'\u001b[39m\u001b[39mCurrent Step: \u001b[39m\u001b[39m'\u001b[39m \u001b[39m+\u001b[39m \u001b[39mstr\u001b[39m(\u001b[39mself\u001b[39m\u001b[39m.\u001b[39mcurrent_step))\n",
      "\u001b[1;31mAttributeError\u001b[0m: 'TradingGraph' object has no attribute 'render'"
     ]
    }
   ],
   "source": [
    "env.render()"
   ]
  },
  {
   "cell_type": "code",
   "execution_count": null,
   "metadata": {},
   "outputs": [],
   "source": []
  }
 ],
 "metadata": {
  "kernelspec": {
   "display_name": "Python 3.10.5 64-bit (system)",
   "language": "python",
   "name": "python3"
  },
  "language_info": {
   "codemirror_mode": {
    "name": "ipython",
    "version": 3
   },
   "file_extension": ".py",
   "mimetype": "text/x-python",
   "name": "python",
   "nbconvert_exporter": "python",
   "pygments_lexer": "ipython3",
   "version": "3.10.5"
  },
  "orig_nbformat": 4,
  "vscode": {
   "interpreter": {
    "hash": "86b382aff9b838d2ac38fb771605ee37ff3cd222f8c18ee62ea5f6283bafc186"
   }
  }
 },
 "nbformat": 4,
 "nbformat_minor": 2
}
