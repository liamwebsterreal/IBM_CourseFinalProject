{
 "cells": [
  {
   "cell_type": "code",
   "execution_count": 37,
   "metadata": {},
   "outputs": [],
   "source": [
    "# External Library Imports\n",
    "import numpy as np\n",
    "import pandas as pd\n",
    "import matplotlib.pyplot as plt\n",
    "import seaborn as sns\n",
    "import keras\n",
    "import tensorflow as tf\n",
    "from keras.preprocessing.text import Tokenizer\n",
    "from tensorflow.keras.utils import pad_sequences\n",
    "from keras.models import Sequential\n",
    "from keras.layers import Activation, Dropout, Flatten, Dense, BatchNormalization, LSTM, Embedding, Reshape, SimpleRNN, MaxPooling1D, Conv1D\n",
    "from keras import initializers\n",
    "from sklearn.model_selection import train_test_split\n",
    "import nltk\n",
    "from nltk.corpus import stopwords\n",
    "from nltk.tokenize import word_tokenize\n",
    "from nltk.stem import WordNetLemmatizer\n",
    "import re \n",
    "\n",
    "def warn(*args, **kwargs):\n",
    "    pass\n",
    "import warnings\n",
    "warnings.warn = warn\n",
    "warnings.filterwarnings('ignore')"
   ]
  },
  {
   "cell_type": "code",
   "execution_count": 49,
   "metadata": {},
   "outputs": [],
   "source": [
    "# Functions \n",
    "\n",
    "def CountPlot(data, title):\n",
    "    plot = plt.axes()\n",
    "    plot.set_title(title)\n",
    "    sns.countplot(data)\n",
    "    plot.set_xlabel('label')\n",
    "    plot.set_xticklabels(['Fake(0)','Real(1)'])\n",
    "    return plot\n",
    "\n",
    "def CorpusGen(text):\n",
    "    # Removes numbers, lowercases words, removes stopwords, word tokenizes, and finally lemmantizes\n",
    "    lemmatizer = WordNetLemmatizer()\n",
    "    nltk.download('stopwords')\n",
    "    nltk.download('punkt')\n",
    "    nltk.download('wordnet')\n",
    "    nltk.download('omw-1.4')\n",
    "\n",
    "    corpus = list()\n",
    "    for i in range(0,len(text)):\n",
    "        message = re.sub('[^a-zA-Z]', ' ', text.iloc[i])\n",
    "        message = message.lower()\n",
    "        message = word_tokenize(message)\n",
    "        message = list(lemmatizer.lemmatize(w) for w in message if not w in stopwords.words('english'))\n",
    "        message = ' '.join(message)\n",
    "        corpus.append(message)\n",
    "    return corpus\n",
    "\n",
    "def plot(history):\n",
    "    plt.plot(history.history['accuracy'])\n",
    "    plt.plot(history.history['val_accuracy'])\n",
    "    plt.title('Model accuracy')\n",
    "    plt.ylabel('Accuracy')\n",
    "    plt.xlabel('Epoch')\n",
    "    plt.legend(['Train', 'Test'], loc='upper left')\n",
    "    plt.show()\n",
    "\n",
    "    plt.plot(history.history['loss'])\n",
    "    plt.plot(history.history['val_loss'])\n",
    "    plt.title('Model loss')\n",
    "    plt.ylabel('Loss')\n",
    "    plt.xlabel('Epoch')\n",
    "    plt.legend(['Train', 'Test'], loc='upper right')\n",
    "    plt.show()"
   ]
  },
  {
   "cell_type": "code",
   "execution_count": 13,
   "metadata": {},
   "outputs": [],
   "source": [
    "# Import Data\n",
    "filepath = \"Data\\WELFake_Dataset.csv\\WELFake_Dataset.csv\"\n",
    "\n",
    "raw_data = pd.read_csv(filepath)\n"
   ]
  },
  {
   "cell_type": "code",
   "execution_count": 14,
   "metadata": {},
   "outputs": [
    {
     "name": "stdout",
     "output_type": "stream",
     "text": [
      "(71537, 3)\n"
     ]
    },
    {
     "data": {
      "text/html": [
       "<div>\n",
       "<style scoped>\n",
       "    .dataframe tbody tr th:only-of-type {\n",
       "        vertical-align: middle;\n",
       "    }\n",
       "\n",
       "    .dataframe tbody tr th {\n",
       "        vertical-align: top;\n",
       "    }\n",
       "\n",
       "    .dataframe thead th {\n",
       "        text-align: right;\n",
       "    }\n",
       "</style>\n",
       "<table border=\"1\" class=\"dataframe\">\n",
       "  <thead>\n",
       "    <tr style=\"text-align: right;\">\n",
       "      <th></th>\n",
       "      <th>title</th>\n",
       "      <th>text</th>\n",
       "      <th>label</th>\n",
       "    </tr>\n",
       "  </thead>\n",
       "  <tbody>\n",
       "    <tr>\n",
       "      <th>0</th>\n",
       "      <td>LAW ENFORCEMENT ON HIGH ALERT Following Threat...</td>\n",
       "      <td>No comment is expected from Barack Obama Membe...</td>\n",
       "      <td>1</td>\n",
       "    </tr>\n",
       "    <tr>\n",
       "      <th>2</th>\n",
       "      <td>UNBELIEVABLE! OBAMA’S ATTORNEY GENERAL SAYS MO...</td>\n",
       "      <td>Now, most of the demonstrators gathered last ...</td>\n",
       "      <td>1</td>\n",
       "    </tr>\n",
       "    <tr>\n",
       "      <th>3</th>\n",
       "      <td>Bobby Jindal, raised Hindu, uses story of Chri...</td>\n",
       "      <td>A dozen politically active pastors came here f...</td>\n",
       "      <td>0</td>\n",
       "    </tr>\n",
       "    <tr>\n",
       "      <th>4</th>\n",
       "      <td>SATAN 2: Russia unvelis an image of its terrif...</td>\n",
       "      <td>The RS-28 Sarmat missile, dubbed Satan 2, will...</td>\n",
       "      <td>1</td>\n",
       "    </tr>\n",
       "    <tr>\n",
       "      <th>5</th>\n",
       "      <td>About Time! Christian Group Sues Amazon and SP...</td>\n",
       "      <td>All we can say on this one is it s about time ...</td>\n",
       "      <td>1</td>\n",
       "    </tr>\n",
       "  </tbody>\n",
       "</table>\n",
       "</div>"
      ],
      "text/plain": [
       "                                               title  \\\n",
       "0  LAW ENFORCEMENT ON HIGH ALERT Following Threat...   \n",
       "2  UNBELIEVABLE! OBAMA’S ATTORNEY GENERAL SAYS MO...   \n",
       "3  Bobby Jindal, raised Hindu, uses story of Chri...   \n",
       "4  SATAN 2: Russia unvelis an image of its terrif...   \n",
       "5  About Time! Christian Group Sues Amazon and SP...   \n",
       "\n",
       "                                                text  label  \n",
       "0  No comment is expected from Barack Obama Membe...      1  \n",
       "2   Now, most of the demonstrators gathered last ...      1  \n",
       "3  A dozen politically active pastors came here f...      0  \n",
       "4  The RS-28 Sarmat missile, dubbed Satan 2, will...      1  \n",
       "5  All we can say on this one is it s about time ...      1  "
      ]
     },
     "execution_count": 14,
     "metadata": {},
     "output_type": "execute_result"
    }
   ],
   "source": [
    "# Data Cleaning\n",
    "cols = [x for x in raw_data.columns if x in ['title', 'text', 'label']]\n",
    "clean_data = raw_data[cols]\n",
    "clean_data.dropna(axis=0, inplace=True)\n",
    "print(clean_data.shape)\n",
    "clean_data.head()"
   ]
  },
  {
   "cell_type": "code",
   "execution_count": 50,
   "metadata": {},
   "outputs": [
    {
     "data": {
      "image/png": "[encoded data removed]",
      "text/plain": [
       "<Figure size 432x288 with 1 Axes>"
      ]
     },
     "metadata": {
      "needs_background": "light"
     },
     "output_type": "display_data"
    }
   ],
   "source": [
    "fulldata_countplot = CountPlot(clean_data['label'], 'Fake vs Real News Count of the Whole Dataset')"
   ]
  },
  {
   "cell_type": "code",
   "execution_count": 16,
   "metadata": {},
   "outputs": [
    {
     "name": "stdout",
     "output_type": "stream",
     "text": [
      "(14307, 3)\n"
     ]
    },
    {
     "data": {
      "text/html": [
       "<div>\n",
       "<style scoped>\n",
       "    .dataframe tbody tr th:only-of-type {\n",
       "        vertical-align: middle;\n",
       "    }\n",
       "\n",
       "    .dataframe tbody tr th {\n",
       "        vertical-align: top;\n",
       "    }\n",
       "\n",
       "    .dataframe thead th {\n",
       "        text-align: right;\n",
       "    }\n",
       "</style>\n",
       "<table border=\"1\" class=\"dataframe\">\n",
       "  <thead>\n",
       "    <tr style=\"text-align: right;\">\n",
       "      <th></th>\n",
       "      <th>title</th>\n",
       "      <th>text</th>\n",
       "      <th>label</th>\n",
       "    </tr>\n",
       "  </thead>\n",
       "  <tbody>\n",
       "    <tr>\n",
       "      <th>9277</th>\n",
       "      <td>Obama to Veto Bill Allowing 9/11 Lawsuits Agai...</td>\n",
       "      <td>WASHINGTON  —   The White House said on Monday...</td>\n",
       "      <td>0</td>\n",
       "    </tr>\n",
       "    <tr>\n",
       "      <th>54537</th>\n",
       "      <td>COLLEGE CAMPUS BANS Chalk, Fears Students Migh...</td>\n",
       "      <td>Remember when college campuses were considered...</td>\n",
       "      <td>1</td>\n",
       "    </tr>\n",
       "    <tr>\n",
       "      <th>35895</th>\n",
       "      <td>What Will Happen to Your Guns Under President ...</td>\n",
       "      <td>21st Century Wire says Legacy note to Obama s ...</td>\n",
       "      <td>1</td>\n",
       "    </tr>\n",
       "    <tr>\n",
       "      <th>40553</th>\n",
       "      <td>HILLARY’S CHICKENS ARE COMIN’ HOME TO ROOST: N...</td>\n",
       "      <td>Hillary may have gotten away with lying to the...</td>\n",
       "      <td>1</td>\n",
       "    </tr>\n",
       "    <tr>\n",
       "      <th>27656</th>\n",
       "      <td>Ex-British spy paid $168,000 for Trump dossier...</td>\n",
       "      <td>WASHINGTON (Reuters) - A Washington research f...</td>\n",
       "      <td>0</td>\n",
       "    </tr>\n",
       "  </tbody>\n",
       "</table>\n",
       "</div>"
      ],
      "text/plain": [
       "                                                   title  \\\n",
       "9277   Obama to Veto Bill Allowing 9/11 Lawsuits Agai...   \n",
       "54537  COLLEGE CAMPUS BANS Chalk, Fears Students Migh...   \n",
       "35895  What Will Happen to Your Guns Under President ...   \n",
       "40553  HILLARY’S CHICKENS ARE COMIN’ HOME TO ROOST: N...   \n",
       "27656  Ex-British spy paid $168,000 for Trump dossier...   \n",
       "\n",
       "                                                    text  label  \n",
       "9277   WASHINGTON  —   The White House said on Monday...      0  \n",
       "54537  Remember when college campuses were considered...      1  \n",
       "35895  21st Century Wire says Legacy note to Obama s ...      1  \n",
       "40553  Hillary may have gotten away with lying to the...      1  \n",
       "27656  WASHINGTON (Reuters) - A Washington research f...      0  "
      ]
     },
     "execution_count": 16,
     "metadata": {},
     "output_type": "execute_result"
    }
   ],
   "source": [
    "# I want to initially work with a smaller subset of the data\n",
    "subset_data_one = clean_data.sample(frac = 0.2)\n",
    "print(subset_data_one.shape)\n",
    "subset_data_one.head()"
   ]
  },
  {
   "cell_type": "code",
   "execution_count": 51,
   "metadata": {},
   "outputs": [
    {
     "data": {
      "image/png": "[encoded data removed]",
      "text/plain": [
       "<Figure size 432x288 with 1 Axes>"
      ]
     },
     "metadata": {
      "needs_background": "light"
     },
     "output_type": "display_data"
    }
   ],
   "source": [
    "subsetdata_countplot = CountPlot(subset_data_one['label'], 'Fake vs Real News Count of Subset Dataset')"
   ]
  },
  {
   "cell_type": "code",
   "execution_count": 18,
   "metadata": {},
   "outputs": [],
   "source": [
    "# Model 1"
   ]
  },
  {
   "cell_type": "code",
   "execution_count": 19,
   "metadata": {},
   "outputs": [
    {
     "name": "stderr",
     "output_type": "stream",
     "text": [
      "[nltk_data] Downloading package stopwords to C:\\Users\\Liam's\n",
      "[nltk_data]     Computer\\AppData\\Roaming\\nltk_data...\n",
      "[nltk_data]   Package stopwords is already up-to-date!\n",
      "[nltk_data] Downloading package punkt to C:\\Users\\Liam's\n",
      "[nltk_data]     Computer\\AppData\\Roaming\\nltk_data...\n",
      "[nltk_data]   Package punkt is already up-to-date!\n",
      "[nltk_data] Downloading package wordnet to C:\\Users\\Liam's\n",
      "[nltk_data]     Computer\\AppData\\Roaming\\nltk_data...\n",
      "[nltk_data]   Package wordnet is already up-to-date!\n",
      "[nltk_data] Downloading package omw-1.4 to C:\\Users\\Liam's\n",
      "[nltk_data]     Computer\\AppData\\Roaming\\nltk_data...\n",
      "[nltk_data]   Package omw-1.4 is already up-to-date!\n"
     ]
    }
   ],
   "source": [
    "corpus_one = CorpusGen(subset_data_one['text'])"
   ]
  },
  {
   "cell_type": "code",
   "execution_count": 20,
   "metadata": {},
   "outputs": [],
   "source": [
    "# Tokenize text\n",
    "\n",
    "tokenizer = Tokenizer()\n",
    "tokenizer.fit_on_texts(corpus_one)\n",
    "word_index = tokenizer.word_index\n",
    "vocab_size=len(word_index)\n",
    "sequences = tokenizer.texts_to_sequences(corpus_one)"
   ]
  },
  {
   "cell_type": "code",
   "execution_count": 21,
   "metadata": {},
   "outputs": [
    {
     "name": "stdout",
     "output_type": "stream",
     "text": [
      "Percentage of Articles with length less than 600 words:  89.23603830292863\n"
     ]
    },
    {
     "data": {
      "image/png": "[encoded data removed]",
      "text/plain": [
       "<Figure size 432x288 with 1 Axes>"
      ]
     },
     "metadata": {
      "needs_background": "light"
     },
     "output_type": "display_data"
    }
   ],
   "source": [
    "list = []\n",
    "count = 0\n",
    "for i in range(14307):\n",
    "    length = len(sequences[i])\n",
    "    list.append(length)\n",
    "    if length <= 600:\n",
    "        count += 1\n",
    "\n",
    "plt.hist(list, bins=100)\n",
    "plt.xlim(0,4000)\n",
    "plt.xlabel('Length of Stories')\n",
    "plt.ylabel('Number of Stories')\n",
    "plt.title('Distribution of Story Length')\n",
    "percent = count / len(sequences)\n",
    "print('Percentage of Articles with length less than 600 words:  ' + str((count / len(sequences) * 100)))"
   ]
  },
  {
   "cell_type": "code",
   "execution_count": 22,
   "metadata": {},
   "outputs": [],
   "source": [
    "padded = pad_sequences(sequences, maxlen=600, padding='post', truncating='post')\n",
    "X_train, X_test, y_train, y_test = train_test_split(padded,subset_data_one['label'], test_size=0.2, random_state=42)"
   ]
  },
  {
   "cell_type": "code",
   "execution_count": 23,
   "metadata": {},
   "outputs": [
    {
     "name": "stdout",
     "output_type": "stream",
     "text": [
      "100\n"
     ]
    }
   ],
   "source": [
    "embeddings_index = {};\n",
    "with open('glove.6B\\glove.6B.100d.txt', encoding=\"utf8\") as f:\n",
    "    for line in f:\n",
    "        values = line.split();\n",
    "        word = values[0];\n",
    "        coefs = np.asarray(values[1:], dtype='float32');\n",
    "        embeddings_index[word] = coefs;\n",
    "print(len(coefs))\n",
    "\n",
    "embeddings_matrix = np.zeros((vocab_size+1, 100));\n",
    "for word, i in word_index.items():\n",
    "    embedding_vector = embeddings_index.get(word);\n",
    "    if embedding_vector is not None:\n",
    "        embeddings_matrix[i] = embedding_vector;"
   ]
  },
  {
   "cell_type": "code",
   "execution_count": 45,
   "metadata": {},
   "outputs": [],
   "source": [
    "rnn_hidden_dim = 10\n",
    "model_rnn1 = Sequential()\n",
    "model_rnn1.add(Embedding(vocab_size + 1, 100, weights=[embeddings_matrix], trainable=False)) \n",
    "model_rnn1.add(LSTM(rnn_hidden_dim, return_sequences=True))\n",
    "model_rnn1.add(Dense(1, activation='sigmoid'))"
   ]
  },
  {
   "cell_type": "code",
   "execution_count": 46,
   "metadata": {},
   "outputs": [],
   "source": [
    "rmsprop = keras.optimizers.RMSprop(lr = .01)\n",
    "\n",
    "model_rnn1.compile(loss='binary_crossentropy', optimizer=rmsprop, metrics=['accuracy'])"
   ]
  },
  {
   "cell_type": "code",
   "execution_count": 47,
   "metadata": {},
   "outputs": [
    {
     "name": "stdout",
     "output_type": "stream",
     "text": [
      "Epoch 1/5\n",
      "179/179 [==============================] - 22s 115ms/step - loss: 0.5088 - accuracy: 0.7494 - val_loss: 0.4860 - val_accuracy: 0.7434\n",
      "Epoch 2/5\n",
      "179/179 [==============================] - 20s 110ms/step - loss: 0.3592 - accuracy: 0.8463 - val_loss: 0.3188 - val_accuracy: 0.8723\n",
      "Epoch 3/5\n",
      "179/179 [==============================] - 20s 112ms/step - loss: 0.3182 - accuracy: 0.8702 - val_loss: 0.3323 - val_accuracy: 0.8758\n",
      "Epoch 4/5\n",
      "179/179 [==============================] - 20s 111ms/step - loss: 0.2708 - accuracy: 0.8875 - val_loss: 0.2546 - val_accuracy: 0.8902\n",
      "Epoch 5/5\n",
      "179/179 [==============================] - 20s 112ms/step - loss: 0.2385 - accuracy: 0.9008 - val_loss: 0.2447 - val_accuracy: 0.8920\n"
     ]
    },
    {
     "data": {
      "text/plain": [
       "<keras.callbacks.History at 0x2b38aa10790>"
      ]
     },
     "execution_count": 47,
     "metadata": {},
     "output_type": "execute_result"
    }
   ],
   "source": [
    "model_rnn1.fit(X_train, y_train,\n",
    "          batch_size=64,\n",
    "          epochs=5,\n",
    "          validation_data=(X_test, y_test))"
   ]
  },
  {
   "cell_type": "code",
   "execution_count": 28,
   "metadata": {},
   "outputs": [],
   "source": [
    "# Model 2"
   ]
  },
  {
   "cell_type": "code",
   "execution_count": 43,
   "metadata": {},
   "outputs": [],
   "source": [
    "rnn_hidden_dim = 20\n",
    "model_rnn2 = Sequential()\n",
    "model_rnn2.add(Embedding(vocab_size + 1, 100, weights=[embeddings_matrix], trainable=False))  \n",
    "model_rnn2.add(Dropout(0.2))\n",
    "model_rnn2.add(LSTM(rnn_hidden_dim, return_sequences=True))\n",
    "model_rnn2.add(Dropout(0.2))\n",
    "model_rnn2.add(Dense(256))\n",
    "model_rnn2.add(Dense(1, activation='sigmoid'))"
   ]
  },
  {
   "cell_type": "code",
   "execution_count": 44,
   "metadata": {},
   "outputs": [],
   "source": [
    "rmsprop = keras.optimizers.RMSprop(lr = .01)\n",
    "\n",
    "model_rnn2.compile(loss='binary_crossentropy', optimizer=rmsprop, metrics=['accuracy'])"
   ]
  },
  {
   "cell_type": "code",
   "execution_count": 42,
   "metadata": {},
   "outputs": [
    {
     "name": "stdout",
     "output_type": "stream",
     "text": [
      "Epoch 1/10\n",
      "179/179 [==============================] - 33s 177ms/step - loss: 0.5682 - accuracy: 0.7261 - val_loss: 0.4205 - val_accuracy: 0.8475\n",
      "Epoch 2/10\n",
      "179/179 [==============================] - 31s 173ms/step - loss: 0.4077 - accuracy: 0.8392 - val_loss: 0.3275 - val_accuracy: 0.8728\n",
      "Epoch 3/10\n",
      "179/179 [==============================] - 31s 174ms/step - loss: 0.3346 - accuracy: 0.8680 - val_loss: 0.3217 - val_accuracy: 0.8817\n",
      "Epoch 4/10\n",
      "179/179 [==============================] - 31s 175ms/step - loss: 0.3097 - accuracy: 0.8828 - val_loss: 0.4629 - val_accuracy: 0.8117\n",
      "Epoch 5/10\n",
      "179/179 [==============================] - 31s 174ms/step - loss: 0.2821 - accuracy: 0.8925 - val_loss: 0.2562 - val_accuracy: 0.9065\n",
      "Epoch 6/10\n",
      "179/179 [==============================] - 31s 174ms/step - loss: 0.2407 - accuracy: 0.9056 - val_loss: 0.2403 - val_accuracy: 0.9079\n",
      "Epoch 7/10\n",
      "179/179 [==============================] - 32s 180ms/step - loss: 0.2461 - accuracy: 0.9063 - val_loss: 0.2323 - val_accuracy: 0.9134\n",
      "Epoch 8/10\n",
      "179/179 [==============================] - 33s 187ms/step - loss: 0.2285 - accuracy: 0.9135 - val_loss: 0.2567 - val_accuracy: 0.8907\n",
      "Epoch 9/10\n",
      "179/179 [==============================] - 34s 189ms/step - loss: 0.2228 - accuracy: 0.9147 - val_loss: 0.3041 - val_accuracy: 0.8698\n",
      "Epoch 10/10\n",
      "179/179 [==============================] - 34s 188ms/step - loss: 0.2099 - accuracy: 0.9187 - val_loss: 0.2124 - val_accuracy: 0.9167\n"
     ]
    },
    {
     "data": {
      "text/plain": [
       "<keras.callbacks.History at 0x2b3907a9ea0>"
      ]
     },
     "execution_count": 42,
     "metadata": {},
     "output_type": "execute_result"
    }
   ],
   "source": [
    "model_rnn2.fit(X_train, y_train,\n",
    "          batch_size=64,\n",
    "          epochs=10,\n",
    "          validation_data=(X_test, y_test))"
   ]
  },
  {
   "cell_type": "code",
   "execution_count": 32,
   "metadata": {},
   "outputs": [],
   "source": [
    "# Model 3"
   ]
  },
  {
   "cell_type": "code",
   "execution_count": 38,
   "metadata": {},
   "outputs": [],
   "source": [
    "rnn_hidden_dim = 20\n",
    "model_rnn3 = Sequential()\n",
    "model_rnn3.add(Embedding(vocab_size+1, 100, weights=[embeddings_matrix], trainable=False))\n",
    "model_rnn3.add(Dropout(0.2))\n",
    "model_rnn3.add(Conv1D(64, 5, activation='relu'))\n",
    "model_rnn3.add(MaxPooling1D(pool_size=4))\n",
    "model_rnn3.add(LSTM(20, return_sequences=True))\n",
    "model_rnn3.add(LSTM(20))\n",
    "model_rnn3.add(Dropout(0.2))\n",
    "model_rnn3.add(Dense(512))\n",
    "model_rnn3.add(Dropout(0.3))\n",
    "model_rnn3.add(Dense(256))\n",
    "model_rnn3.add(Dense(1, activation='sigmoid'))"
   ]
  },
  {
   "cell_type": "code",
   "execution_count": 39,
   "metadata": {},
   "outputs": [
    {
     "name": "stdout",
     "output_type": "stream",
     "text": [
      "Epoch 1/10\n",
      "115/115 [==============================] - 22s 169ms/step - loss: 0.6437 - accuracy: 0.6119 - val_loss: 0.7567 - val_accuracy: 0.6038\n",
      "Epoch 2/10\n",
      "115/115 [==============================] - 20s 178ms/step - loss: 0.5717 - accuracy: 0.7188 - val_loss: 0.5380 - val_accuracy: 0.7484\n",
      "Epoch 3/10\n",
      "115/115 [==============================] - 23s 198ms/step - loss: 0.4880 - accuracy: 0.8051 - val_loss: 0.4636 - val_accuracy: 0.8162\n",
      "Epoch 4/10\n",
      "115/115 [==============================] - 24s 212ms/step - loss: 0.4739 - accuracy: 0.8102 - val_loss: 0.4001 - val_accuracy: 0.8400\n",
      "Epoch 5/10\n",
      "115/115 [==============================] - 24s 207ms/step - loss: 0.4156 - accuracy: 0.8395 - val_loss: 0.3694 - val_accuracy: 0.8536\n",
      "Epoch 6/10\n",
      "115/115 [==============================] - 23s 205ms/step - loss: 0.3581 - accuracy: 0.8513 - val_loss: 0.3030 - val_accuracy: 0.8795\n",
      "Epoch 7/10\n",
      "115/115 [==============================] - 24s 209ms/step - loss: 0.3401 - accuracy: 0.8641 - val_loss: 0.3422 - val_accuracy: 0.8683\n",
      "Epoch 8/10\n",
      "115/115 [==============================] - 24s 209ms/step - loss: 0.3001 - accuracy: 0.8849 - val_loss: 0.2632 - val_accuracy: 0.8969\n",
      "Epoch 9/10\n",
      "115/115 [==============================] - 24s 212ms/step - loss: 0.2620 - accuracy: 0.8998 - val_loss: 0.2759 - val_accuracy: 0.8969\n",
      "Epoch 10/10\n",
      "115/115 [==============================] - 25s 214ms/step - loss: 0.2445 - accuracy: 0.9068 - val_loss: 0.2399 - val_accuracy: 0.9053\n"
     ]
    },
    {
     "data": {
      "image/png": "[encoded data removed]",
      "text/plain": [
       "<Figure size 432x288 with 1 Axes>"
      ]
     },
     "metadata": {
      "needs_background": "light"
     },
     "output_type": "display_data"
    },
    {
     "data": {
      "image/png": "[encoded data removed]",
      "text/plain": [
       "<Figure size 432x288 with 1 Axes>"
      ]
     },
     "metadata": {
      "needs_background": "light"
     },
     "output_type": "display_data"
    }
   ],
   "source": [
    "\n",
    "model_rnn3.compile(loss='binary_crossentropy',optimizer='adam',metrics=['accuracy'])\n",
    "\n",
    "history = model_rnn3.fit(X_train, y_train, \n",
    "                    epochs=10, \n",
    "                    batch_size=100, \n",
    "                    validation_data=(X_test, y_test))\n",
    "plot(history)"
   ]
  },
  {
   "cell_type": "code",
   "execution_count": null,
   "metadata": {},
   "outputs": [],
   "source": []
  }
 ],
 "metadata": {
  "kernelspec": {
   "display_name": "Python 3.10.5 64-bit (system)",
   "language": "python",
   "name": "python3"
  },
  "language_info": {
   "codemirror_mode": {
    "name": "ipython",
    "version": 3
   },
   "file_extension": ".py",
   "mimetype": "text/x-python",
   "name": "python",
   "nbconvert_exporter": "python",
   "pygments_lexer": "ipython3",
   "version": "3.10.5"
  },
  "orig_nbformat": 4,
  "vscode": {
   "interpreter": {
    "hash": "86b382aff9b838d2ac38fb771605ee37ff3cd222f8c18ee62ea5f6283bafc186"
   }
  }
 },
 "nbformat": 4,
 "nbformat_minor": 2
}
